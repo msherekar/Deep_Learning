{
  "cells": [
    {
      "cell_type": "markdown",
      "metadata": {
        "id": "q3pqxgX4DxeH"
      },
      "source": [
        "<small><font color=gray>Notebook author: <a href=\"https://www.linkedin.com/in/olegmelnikov/\" target=\"_blank\">Oleg Melnikov</a> ©2021 onwards</font></small><hr style=\"margin:0;background-color:silver\">\n",
        "\n",
        "**[<font size=6>💎Diamonds</font>](https://www.kaggle.com/competitions/22jan24jh-diamonds)**. [**Instructions**](https://colab.research.google.com/drive/1riOGrE_Fv-yfIbM5V4pgJx4DWcd92cZr#scrollTo=ITaPDPIQEgXV) for running Colabs."
      ]
    },
    {
      "cell_type": "markdown",
      "metadata": {
        "id": "GOLsFW8RMbgp"
      },
      "source": [
        "<small>**(Optional) CONSENT.** <mark>[ X ]</mark> We consent to sharing our Colab (after the assignment ends) with other students/instructors for educational purposes. We understand that sharing is optional and this decision will not affect our grade in any way. <font color=gray><i>(If ok with sharing your Colab for educational purposes, leave \"X\" in the check box.)</i></font></small>"
      ]
    },
    {
      "cell_type": "code",
      "execution_count": null,
      "metadata": {
        "id": "mPXkUBs6eMHH",
        "colab": {
          "base_uri": "https://localhost:8080/"
        },
        "outputId": "6335005c-4022-4e77-89c9-885cceaa5b3b"
      },
      "outputs": [
        {
          "output_type": "stream",
          "name": "stdout",
          "text": [
            "Drive already mounted at /content/drive; to attempt to forcibly remount, call drive.mount(\"/content/drive\", force_remount=True).\n"
          ]
        }
      ],
      "source": [
        "from google.colab import drive; drive.mount('/content/drive')   # OK to enable, if your kaggle.json file is stored in Google Drive"
      ]
    },
    {
      "cell_type": "code",
      "execution_count": null,
      "metadata": {
        "colab": {
          "base_uri": "https://localhost:8080/"
        },
        "id": "d8XoC8VqBXGs",
        "outputId": "4ab40e03-f4a1-4ccf-f974-4c67b342eebe"
      },
      "outputs": [
        {
          "output_type": "stream",
          "name": "stdout",
          "text": [
            "cp: cannot stat 'kaggle.json': No such file or directory\n",
            "- competition is now set to: 22jan24jh-diamonds\n",
            "Using competition: 22jan24jh-diamonds\n",
            "  teamId  teamName            submissionDate       score            \n",
            "--------  ------------------  -------------------  ---------------  \n",
            "11561236  3 Diamonds💎         2024-02-03 18:34:46  567.6963105000   \n",
            "11580589  8 Diamonds          2024-02-04 03:07:13  600.9779260000   \n",
            "11575741  DiamondDiggers      2024-02-05 00:45:26  603.0398164999   \n",
            "11585011  9 Diamonds          2024-02-02 23:25:38  609.1472885000   \n",
            "11586129  Diamond_5           2024-02-04 04:48:13  618.5244364999   \n",
            "11570995  4 Diamonds          2024-02-03 19:46:24  635.0945530000   \n",
            "11580504  💎6                  2024-02-04 20:47:05  637.9146890000   \n",
            "11584680  2 Diamonds          2024-02-05 00:18:54  640.2757900000   \n",
            "11596471  Team-24-Diamonds    2024-02-04 19:56:13  823.1705574999   \n",
            "11503718  💎Baseline 🐍         2024-01-12 16:31:46  1066.5654285000  \n",
            "11567537  Aaron Collinsworth  2024-01-31 03:33:34  1066.5654285000  \n"
          ]
        }
      ],
      "source": [
        "!pip install --upgrade --force-reinstall --no-deps kaggle > log  # upgrade kaggle package (to avoid a warning)\n",
        "!mkdir -p ~/.kaggle                                           # .kaggle folder must contain kaggle.json for kaggle executable to properly authenticate you to Kaggle.com\n",
        "!cp /content/drive/MyDrive/kaggle.json ~/.kaggle/kaggle.json >log  # First, download kaggle.json from kaggle.com (in Account page) and place it in the root of mounted Google Drive\n",
        "!cp kaggle.json ~/.kaggle/kaggle.json > log                   # Alternative location of kaggle.json (without a connection to Google Drive)\n",
        "!chmod 600 ~/.kaggle/kaggle.json                              # give only the owner full read/write access to kaggle.json\n",
        "!kaggle config set -n competition -v 22jan24jh-diamonds         # set the competition context for the next few kaggle API calls. !kaggle config view - shows current settings\n",
        "!kaggle competitions download >> log                          # download competition dataset as a zip file\n",
        "!unzip -o *.zip >> log                                        # Kaggle dataset is copied as a single file and needs to be unzipped.\n",
        "!kaggle competitions leaderboard --show                       # print public leaderboard"
      ]
    },
    {
      "cell_type": "code",
      "execution_count": null,
      "metadata": {
        "colab": {
          "base_uri": "https://localhost:8080/"
        },
        "id": "7CyC-JlZFga1",
        "outputId": "b500eebb-a93f-4573-a3ee-7664eef85dd7"
      },
      "outputs": [
        {
          "output_type": "stream",
          "name": "stdout",
          "text": [
            "CPU times: user 218 ms, sys: 63 µs, total: 218 ms\n",
            "Wall time: 221 ms\n"
          ]
        }
      ],
      "source": [
        "%%time\n",
        "%%capture\n",
        "%reset -f\n",
        "from IPython.core.interactiveshell import InteractiveShell as IS; IS.ast_node_interactivity = \"all\"\n",
        "import numpy as np, pandas as pd, time, matplotlib.pyplot as plt, seaborn as sns, os, tqdm, re, sys, cv2, skimage\n",
        "ToCSV = lambda df, fname: df.round(2).to_csv(f'{fname}.csv', index_label='id') # rounds values to 2 decimals\n",
        "os.environ['TF_DETERMINISTIC_OPS'] = '1'; os.environ['TF_CUDNN_DETERMINISTIC'] = '1'; # allows seeding RNG on GPU\n",
        "\n",
        "class Timer():\n",
        "  def __init__(self, lim:'RunTimeLimit'=60): self.t0, self.lim, _ = time.time(), lim, print(f'⏳ started. You have {lim} sec. Good luck!')\n",
        "  def ShowTime(self):\n",
        "    msg = f'Runtime is {time.time()-self.t0:.0f} sec'\n",
        "    print(f'\\033[91m\\033[1m' + msg + f' > {self.lim} sec limit!!!\\033[0m' if (time.time()-self.t0-1) > self.lim else msg)\n",
        "\n",
        "np.set_printoptions(linewidth=100, precision=2, edgeitems=2, suppress=True)\n",
        "pd.set_option('display.max_columns', 20, 'display.precision', 2, 'display.max_rows', 4)\n",
        "tDIR, sDIR = 'trainXY/', 'testY/'"
      ]
    },
    {
      "cell_type": "code",
      "execution_count": null,
      "metadata": {
        "colab": {
          "base_uri": "https://localhost:8080/",
          "height": 236
        },
        "id": "X00bQLb5FpxU",
        "outputId": "2eeb3b81-1253-40ae-8fa8-71838995f7ab"
      },
      "outputs": [
        {
          "output_type": "execute_result",
          "data": {
            "text/plain": [
              "        carat  depth  table     x     y     z cut color clarity   price\n",
              "0        0.35   67.2   57.1  4.64  4.69  2.87   I     G     VS1     NaN\n",
              "1        1.64   67.3   60.7  7.84  7.82  4.94   V     E     SI1     NaN\n",
              "...       ...    ...    ...   ...   ...   ...  ..   ...     ...     ...\n",
              "199998   0.48   68.7   53.0  4.47  4.45  2.72   I     G      IF  1474.0\n",
              "199999   0.48   65.0   64.7  5.60  5.62  3.44   I     H     VS2   765.0\n",
              "\n",
              "[200000 rows x 10 columns]"
            ],
            "text/html": [
              "\n",
              "  <div id=\"df-2a39cbf0-fcc9-4fce-8a67-4674867e444f\" class=\"colab-df-container\">\n",
              "    <div>\n",
              "<style scoped>\n",
              "    .dataframe tbody tr th:only-of-type {\n",
              "        vertical-align: middle;\n",
              "    }\n",
              "\n",
              "    .dataframe tbody tr th {\n",
              "        vertical-align: top;\n",
              "    }\n",
              "\n",
              "    .dataframe thead th {\n",
              "        text-align: right;\n",
              "    }\n",
              "</style>\n",
              "<table border=\"1\" class=\"dataframe\">\n",
              "  <thead>\n",
              "    <tr style=\"text-align: right;\">\n",
              "      <th></th>\n",
              "      <th>carat</th>\n",
              "      <th>depth</th>\n",
              "      <th>table</th>\n",
              "      <th>x</th>\n",
              "      <th>y</th>\n",
              "      <th>z</th>\n",
              "      <th>cut</th>\n",
              "      <th>color</th>\n",
              "      <th>clarity</th>\n",
              "      <th>price</th>\n",
              "    </tr>\n",
              "  </thead>\n",
              "  <tbody>\n",
              "    <tr>\n",
              "      <th>0</th>\n",
              "      <td>0.35</td>\n",
              "      <td>67.2</td>\n",
              "      <td>57.1</td>\n",
              "      <td>4.64</td>\n",
              "      <td>4.69</td>\n",
              "      <td>2.87</td>\n",
              "      <td>I</td>\n",
              "      <td>G</td>\n",
              "      <td>VS1</td>\n",
              "      <td>NaN</td>\n",
              "    </tr>\n",
              "    <tr>\n",
              "      <th>1</th>\n",
              "      <td>1.64</td>\n",
              "      <td>67.3</td>\n",
              "      <td>60.7</td>\n",
              "      <td>7.84</td>\n",
              "      <td>7.82</td>\n",
              "      <td>4.94</td>\n",
              "      <td>V</td>\n",
              "      <td>E</td>\n",
              "      <td>SI1</td>\n",
              "      <td>NaN</td>\n",
              "    </tr>\n",
              "    <tr>\n",
              "      <th>...</th>\n",
              "      <td>...</td>\n",
              "      <td>...</td>\n",
              "      <td>...</td>\n",
              "      <td>...</td>\n",
              "      <td>...</td>\n",
              "      <td>...</td>\n",
              "      <td>...</td>\n",
              "      <td>...</td>\n",
              "      <td>...</td>\n",
              "      <td>...</td>\n",
              "    </tr>\n",
              "    <tr>\n",
              "      <th>199998</th>\n",
              "      <td>0.48</td>\n",
              "      <td>68.7</td>\n",
              "      <td>53.0</td>\n",
              "      <td>4.47</td>\n",
              "      <td>4.45</td>\n",
              "      <td>2.72</td>\n",
              "      <td>I</td>\n",
              "      <td>G</td>\n",
              "      <td>IF</td>\n",
              "      <td>1474.0</td>\n",
              "    </tr>\n",
              "    <tr>\n",
              "      <th>199999</th>\n",
              "      <td>0.48</td>\n",
              "      <td>65.0</td>\n",
              "      <td>64.7</td>\n",
              "      <td>5.60</td>\n",
              "      <td>5.62</td>\n",
              "      <td>3.44</td>\n",
              "      <td>I</td>\n",
              "      <td>H</td>\n",
              "      <td>VS2</td>\n",
              "      <td>765.0</td>\n",
              "    </tr>\n",
              "  </tbody>\n",
              "</table>\n",
              "<p>200000 rows × 10 columns</p>\n",
              "</div>\n",
              "    <div class=\"colab-df-buttons\">\n",
              "\n",
              "  <div class=\"colab-df-container\">\n",
              "    <button class=\"colab-df-convert\" onclick=\"convertToInteractive('df-2a39cbf0-fcc9-4fce-8a67-4674867e444f')\"\n",
              "            title=\"Convert this dataframe to an interactive table.\"\n",
              "            style=\"display:none;\">\n",
              "\n",
              "  <svg xmlns=\"http://www.w3.org/2000/svg\" height=\"24px\" viewBox=\"0 -960 960 960\">\n",
              "    <path d=\"M120-120v-720h720v720H120Zm60-500h600v-160H180v160Zm220 220h160v-160H400v160Zm0 220h160v-160H400v160ZM180-400h160v-160H180v160Zm440 0h160v-160H620v160ZM180-180h160v-160H180v160Zm440 0h160v-160H620v160Z\"/>\n",
              "  </svg>\n",
              "    </button>\n",
              "\n",
              "  <style>\n",
              "    .colab-df-container {\n",
              "      display:flex;\n",
              "      gap: 12px;\n",
              "    }\n",
              "\n",
              "    .colab-df-convert {\n",
              "      background-color: #E8F0FE;\n",
              "      border: none;\n",
              "      border-radius: 50%;\n",
              "      cursor: pointer;\n",
              "      display: none;\n",
              "      fill: #1967D2;\n",
              "      height: 32px;\n",
              "      padding: 0 0 0 0;\n",
              "      width: 32px;\n",
              "    }\n",
              "\n",
              "    .colab-df-convert:hover {\n",
              "      background-color: #E2EBFA;\n",
              "      box-shadow: 0px 1px 2px rgba(60, 64, 67, 0.3), 0px 1px 3px 1px rgba(60, 64, 67, 0.15);\n",
              "      fill: #174EA6;\n",
              "    }\n",
              "\n",
              "    .colab-df-buttons div {\n",
              "      margin-bottom: 4px;\n",
              "    }\n",
              "\n",
              "    [theme=dark] .colab-df-convert {\n",
              "      background-color: #3B4455;\n",
              "      fill: #D2E3FC;\n",
              "    }\n",
              "\n",
              "    [theme=dark] .colab-df-convert:hover {\n",
              "      background-color: #434B5C;\n",
              "      box-shadow: 0px 1px 3px 1px rgba(0, 0, 0, 0.15);\n",
              "      filter: drop-shadow(0px 1px 2px rgba(0, 0, 0, 0.3));\n",
              "      fill: #FFFFFF;\n",
              "    }\n",
              "  </style>\n",
              "\n",
              "    <script>\n",
              "      const buttonEl =\n",
              "        document.querySelector('#df-2a39cbf0-fcc9-4fce-8a67-4674867e444f button.colab-df-convert');\n",
              "      buttonEl.style.display =\n",
              "        google.colab.kernel.accessAllowed ? 'block' : 'none';\n",
              "\n",
              "      async function convertToInteractive(key) {\n",
              "        const element = document.querySelector('#df-2a39cbf0-fcc9-4fce-8a67-4674867e444f');\n",
              "        const dataTable =\n",
              "          await google.colab.kernel.invokeFunction('convertToInteractive',\n",
              "                                                    [key], {});\n",
              "        if (!dataTable) return;\n",
              "\n",
              "        const docLinkHtml = 'Like what you see? Visit the ' +\n",
              "          '<a target=\"_blank\" href=https://colab.research.google.com/notebooks/data_table.ipynb>data table notebook</a>'\n",
              "          + ' to learn more about interactive tables.';\n",
              "        element.innerHTML = '';\n",
              "        dataTable['output_type'] = 'display_data';\n",
              "        await google.colab.output.renderOutput(dataTable, element);\n",
              "        const docLink = document.createElement('div');\n",
              "        docLink.innerHTML = docLinkHtml;\n",
              "        element.appendChild(docLink);\n",
              "      }\n",
              "    </script>\n",
              "  </div>\n",
              "\n",
              "\n",
              "<div id=\"df-0248a496-801f-4385-bfab-871182e716ed\">\n",
              "  <button class=\"colab-df-quickchart\" onclick=\"quickchart('df-0248a496-801f-4385-bfab-871182e716ed')\"\n",
              "            title=\"Suggest charts\"\n",
              "            style=\"display:none;\">\n",
              "\n",
              "<svg xmlns=\"http://www.w3.org/2000/svg\" height=\"24px\"viewBox=\"0 0 24 24\"\n",
              "     width=\"24px\">\n",
              "    <g>\n",
              "        <path d=\"M19 3H5c-1.1 0-2 .9-2 2v14c0 1.1.9 2 2 2h14c1.1 0 2-.9 2-2V5c0-1.1-.9-2-2-2zM9 17H7v-7h2v7zm4 0h-2V7h2v10zm4 0h-2v-4h2v4z\"/>\n",
              "    </g>\n",
              "</svg>\n",
              "  </button>\n",
              "\n",
              "<style>\n",
              "  .colab-df-quickchart {\n",
              "      --bg-color: #E8F0FE;\n",
              "      --fill-color: #1967D2;\n",
              "      --hover-bg-color: #E2EBFA;\n",
              "      --hover-fill-color: #174EA6;\n",
              "      --disabled-fill-color: #AAA;\n",
              "      --disabled-bg-color: #DDD;\n",
              "  }\n",
              "\n",
              "  [theme=dark] .colab-df-quickchart {\n",
              "      --bg-color: #3B4455;\n",
              "      --fill-color: #D2E3FC;\n",
              "      --hover-bg-color: #434B5C;\n",
              "      --hover-fill-color: #FFFFFF;\n",
              "      --disabled-bg-color: #3B4455;\n",
              "      --disabled-fill-color: #666;\n",
              "  }\n",
              "\n",
              "  .colab-df-quickchart {\n",
              "    background-color: var(--bg-color);\n",
              "    border: none;\n",
              "    border-radius: 50%;\n",
              "    cursor: pointer;\n",
              "    display: none;\n",
              "    fill: var(--fill-color);\n",
              "    height: 32px;\n",
              "    padding: 0;\n",
              "    width: 32px;\n",
              "  }\n",
              "\n",
              "  .colab-df-quickchart:hover {\n",
              "    background-color: var(--hover-bg-color);\n",
              "    box-shadow: 0 1px 2px rgba(60, 64, 67, 0.3), 0 1px 3px 1px rgba(60, 64, 67, 0.15);\n",
              "    fill: var(--button-hover-fill-color);\n",
              "  }\n",
              "\n",
              "  .colab-df-quickchart-complete:disabled,\n",
              "  .colab-df-quickchart-complete:disabled:hover {\n",
              "    background-color: var(--disabled-bg-color);\n",
              "    fill: var(--disabled-fill-color);\n",
              "    box-shadow: none;\n",
              "  }\n",
              "\n",
              "  .colab-df-spinner {\n",
              "    border: 2px solid var(--fill-color);\n",
              "    border-color: transparent;\n",
              "    border-bottom-color: var(--fill-color);\n",
              "    animation:\n",
              "      spin 1s steps(1) infinite;\n",
              "  }\n",
              "\n",
              "  @keyframes spin {\n",
              "    0% {\n",
              "      border-color: transparent;\n",
              "      border-bottom-color: var(--fill-color);\n",
              "      border-left-color: var(--fill-color);\n",
              "    }\n",
              "    20% {\n",
              "      border-color: transparent;\n",
              "      border-left-color: var(--fill-color);\n",
              "      border-top-color: var(--fill-color);\n",
              "    }\n",
              "    30% {\n",
              "      border-color: transparent;\n",
              "      border-left-color: var(--fill-color);\n",
              "      border-top-color: var(--fill-color);\n",
              "      border-right-color: var(--fill-color);\n",
              "    }\n",
              "    40% {\n",
              "      border-color: transparent;\n",
              "      border-right-color: var(--fill-color);\n",
              "      border-top-color: var(--fill-color);\n",
              "    }\n",
              "    60% {\n",
              "      border-color: transparent;\n",
              "      border-right-color: var(--fill-color);\n",
              "    }\n",
              "    80% {\n",
              "      border-color: transparent;\n",
              "      border-right-color: var(--fill-color);\n",
              "      border-bottom-color: var(--fill-color);\n",
              "    }\n",
              "    90% {\n",
              "      border-color: transparent;\n",
              "      border-bottom-color: var(--fill-color);\n",
              "    }\n",
              "  }\n",
              "</style>\n",
              "\n",
              "  <script>\n",
              "    async function quickchart(key) {\n",
              "      const quickchartButtonEl =\n",
              "        document.querySelector('#' + key + ' button');\n",
              "      quickchartButtonEl.disabled = true;  // To prevent multiple clicks.\n",
              "      quickchartButtonEl.classList.add('colab-df-spinner');\n",
              "      try {\n",
              "        const charts = await google.colab.kernel.invokeFunction(\n",
              "            'suggestCharts', [key], {});\n",
              "      } catch (error) {\n",
              "        console.error('Error during call to suggestCharts:', error);\n",
              "      }\n",
              "      quickchartButtonEl.classList.remove('colab-df-spinner');\n",
              "      quickchartButtonEl.classList.add('colab-df-quickchart-complete');\n",
              "    }\n",
              "    (() => {\n",
              "      let quickchartButtonEl =\n",
              "        document.querySelector('#df-0248a496-801f-4385-bfab-871182e716ed button');\n",
              "      quickchartButtonEl.style.display =\n",
              "        google.colab.kernel.accessAllowed ? 'block' : 'none';\n",
              "    })();\n",
              "  </script>\n",
              "</div>\n",
              "\n",
              "  <div id=\"id_ec3d5631-c939-4d92-9931-ffe7085733c0\">\n",
              "    <style>\n",
              "      .colab-df-generate {\n",
              "        background-color: #E8F0FE;\n",
              "        border: none;\n",
              "        border-radius: 50%;\n",
              "        cursor: pointer;\n",
              "        display: none;\n",
              "        fill: #1967D2;\n",
              "        height: 32px;\n",
              "        padding: 0 0 0 0;\n",
              "        width: 32px;\n",
              "      }\n",
              "\n",
              "      .colab-df-generate:hover {\n",
              "        background-color: #E2EBFA;\n",
              "        box-shadow: 0px 1px 2px rgba(60, 64, 67, 0.3), 0px 1px 3px 1px rgba(60, 64, 67, 0.15);\n",
              "        fill: #174EA6;\n",
              "      }\n",
              "\n",
              "      [theme=dark] .colab-df-generate {\n",
              "        background-color: #3B4455;\n",
              "        fill: #D2E3FC;\n",
              "      }\n",
              "\n",
              "      [theme=dark] .colab-df-generate:hover {\n",
              "        background-color: #434B5C;\n",
              "        box-shadow: 0px 1px 3px 1px rgba(0, 0, 0, 0.15);\n",
              "        filter: drop-shadow(0px 1px 2px rgba(0, 0, 0, 0.3));\n",
              "        fill: #FFFFFF;\n",
              "      }\n",
              "    </style>\n",
              "    <button class=\"colab-df-generate\" onclick=\"generateWithVariable('df')\"\n",
              "            title=\"Generate code using this dataframe.\"\n",
              "            style=\"display:none;\">\n",
              "\n",
              "  <svg xmlns=\"http://www.w3.org/2000/svg\" height=\"24px\"viewBox=\"0 0 24 24\"\n",
              "       width=\"24px\">\n",
              "    <path d=\"M7,19H8.4L18.45,9,17,7.55,7,17.6ZM5,21V16.75L18.45,3.32a2,2,0,0,1,2.83,0l1.4,1.43a1.91,1.91,0,0,1,.58,1.4,1.91,1.91,0,0,1-.58,1.4L9.25,21ZM18.45,9,17,7.55Zm-12,3A5.31,5.31,0,0,0,4.9,8.1,5.31,5.31,0,0,0,1,6.5,5.31,5.31,0,0,0,4.9,4.9,5.31,5.31,0,0,0,6.5,1,5.31,5.31,0,0,0,8.1,4.9,5.31,5.31,0,0,0,12,6.5,5.46,5.46,0,0,0,6.5,12Z\"/>\n",
              "  </svg>\n",
              "    </button>\n",
              "    <script>\n",
              "      (() => {\n",
              "      const buttonEl =\n",
              "        document.querySelector('#id_ec3d5631-c939-4d92-9931-ffe7085733c0 button.colab-df-generate');\n",
              "      buttonEl.style.display =\n",
              "        google.colab.kernel.accessAllowed ? 'block' : 'none';\n",
              "\n",
              "      buttonEl.onclick = () => {\n",
              "        google.colab.notebook.generateWithVariable('df');\n",
              "      }\n",
              "      })();\n",
              "    </script>\n",
              "  </div>\n",
              "\n",
              "    </div>\n",
              "  </div>\n"
            ]
          },
          "metadata": {},
          "execution_count": 173
        }
      ],
      "source": [
        "df = pd.read_csv('XY_diamonds.csv'); df"
      ]
    },
    {
      "cell_type": "code",
      "execution_count": null,
      "metadata": {
        "colab": {
          "base_uri": "https://localhost:8080/"
        },
        "id": "fh1X0Ck_v-RM",
        "outputId": "1d32d272-f6dd-44be-ba9f-01232329f4be"
      },
      "outputs": [
        {
          "output_type": "stream",
          "name": "stdout",
          "text": [
            "<class 'pandas.core.series.Series'>\n",
            "RangeIndex: 200000 entries, 0 to 199999\n",
            "Series name: price\n",
            "Non-Null Count   Dtype  \n",
            "--------------   -----  \n",
            "160000 non-null  float64\n",
            "dtypes: float64(1)\n",
            "memory usage: 1.5 MB\n"
          ]
        }
      ],
      "source": [
        "df.price.info()"
      ]
    },
    {
      "cell_type": "code",
      "execution_count": null,
      "metadata": {
        "id": "f7OuVizOFsFF"
      },
      "outputs": [],
      "source": [
        "vX = df.query('price!=price').drop('price', axis=1)  # slice a test sample\n",
        "tXY = df.query('price==price')                       # slice training sample\n",
        "tX, tY = tXY.drop('price', axis=1), tXY.price        # split into training I/O"
      ]
    },
    {
      "cell_type": "code",
      "execution_count": null,
      "metadata": {
        "id": "i4gelET6Hb2A"
      },
      "outputs": [],
      "source": [
        "def ScatterCorrHist(df):\n",
        "  def corrdot(*args, **kwargs):\n",
        "    # credit: https://stackoverflow.com/questions/48139899\n",
        "    corr_r = args[0].corr(args[1], 'pearson')\n",
        "    corr_text = f\"{corr_r:2.2f}\".replace(\"0.\", \".\")\n",
        "    ax = plt.gca();\n",
        "    ax.set_axis_off();\n",
        "    msz = abs(corr_r) * 5000   # marker size\n",
        "    fsz = abs(corr_r) * 40 + 5 # font size\n",
        "    ax.scatter([.5], [.5], msz, [corr_r], alpha=0.5, cmap='coolwarm', vmin=-1, vmax=1, transform=ax.transAxes)\n",
        "    ax.annotate(corr_text, [.5, .5,],  xycoords=\"axes fraction\", ha='center', va='center', fontsize=fsz)\n",
        "\n",
        "  sns.set(style='white', font_scale=.8);\n",
        "  g = sns.PairGrid(df, aspect=1, diag_sharey=False);\n",
        "  g.fig.set_size_inches(20,10)\n",
        "  g.map_lower(sns.regplot, lowess=True, ci=False, line_kws={'color':'red'}, scatter_kws={'s':1});\n",
        "  g.map_diag(sns.histplot, kde_kws={'color':'black'});\n",
        "  g.map_upper(corrdot);\n",
        "  g.fig.suptitle(\"Scatter plot, Correlations and histograms on diagonal\", y=1);\n",
        "  _ = plt.subplots_adjust(hspace=0.02, wspace=0.02);\n",
        "  _ = plt.show();\n",
        "\n",
        "# ScatterCorrHist(tXY.head(200))  # takes a minute time to run"
      ]
    },
    {
      "cell_type": "code",
      "execution_count": null,
      "metadata": {
        "colab": {
          "base_uri": "https://localhost:8080/"
        },
        "id": "z4_C58bbHuja",
        "outputId": "c1e1222a-9741-4dfd-f14b-d1977033fc6d"
      },
      "outputs": [
        {
          "output_type": "stream",
          "name": "stdout",
          "text": [
            "⏳ started. You have 60 sec. Good luck!\n"
          ]
        }
      ],
      "source": [
        "tmr = Timer()"
      ]
    },
    {
      "cell_type": "code",
      "source": [
        "df.info()"
      ],
      "metadata": {
        "colab": {
          "base_uri": "https://localhost:8080/"
        },
        "id": "gvNGGo7b8JFU",
        "outputId": "3076a4ea-c98d-4bfd-8daf-4824b25bab4a"
      },
      "execution_count": null,
      "outputs": [
        {
          "output_type": "stream",
          "name": "stdout",
          "text": [
            "<class 'pandas.core.frame.DataFrame'>\n",
            "RangeIndex: 200000 entries, 0 to 199999\n",
            "Data columns (total 10 columns):\n",
            " #   Column   Non-Null Count   Dtype  \n",
            "---  ------   --------------   -----  \n",
            " 0   carat    200000 non-null  float64\n",
            " 1   depth    200000 non-null  float64\n",
            " 2   table    200000 non-null  float64\n",
            " 3   x        200000 non-null  float64\n",
            " 4   y        200000 non-null  float64\n",
            " 5   z        200000 non-null  float64\n",
            " 6   cut      200000 non-null  object \n",
            " 7   color    200000 non-null  object \n",
            " 8   clarity  200000 non-null  object \n",
            " 9   price    160000 non-null  float64\n",
            "dtypes: float64(7), object(3)\n",
            "memory usage: 15.3+ MB\n"
          ]
        }
      ]
    },
    {
      "cell_type": "markdown",
      "metadata": {
        "id": "3NcTKbw3KhAn"
      },
      "source": [
        "<hr color=green size=40>\n",
        "\n",
        "<strong><font color=green size=5>⏳Timed Green Playground (TGP): Your ideas, code, documentation, and timer START HERE!</font></strong>\n",
        "\n",
        "<font color=green>Students: Keep all your definitions, code, documentation in <b>TGP</b>. Modifying any code outside of TGP incurs penalties."
      ]
    },
    {
      "cell_type": "code",
      "source": [
        "import pandas as pd\n",
        "from sklearn.preprocessing import OneHotEncoder, OrdinalEncoder\n",
        "from sklearn.model_selection import train_test_split\n",
        "from sklearn.linear_model import Ridge\n",
        "from sklearn.pipeline import make_pipeline\n",
        "from sklearn.model_selection import cross_val_score\n",
        "from sklearn.preprocessing import StandardScaler\n",
        "from sklearn.linear_model import Ridge\n",
        "from sklearn.pipeline import make_pipeline\n",
        "from sklearn.preprocessing import PolynomialFeatures\n",
        "from sklearn.metrics import mean_absolute_error\n"
      ],
      "metadata": {
        "id": "7PFNkJvARFMX"
      },
      "execution_count": null,
      "outputs": []
    },
    {
      "cell_type": "markdown",
      "source": [
        "# PREPROCESSING"
      ],
      "metadata": {
        "id": "SXMRtWn6oyJG"
      }
    },
    {
      "cell_type": "code",
      "source": [
        "# Preprocessing & Cleaning of training data tXY\n",
        "df_clean=tXY.copy()\n",
        "\n",
        "# Getting rid of outliers\n",
        "df_clean = df_clean[~((df_clean['carat'] >= 2.0) & (df_clean['carat'] <= 3.0) & (df_clean['price'] >= 5000) & (df_clean['price'] <= 12000))]\n",
        "df_clean = df_clean[df_clean['carat'] <= 2.7]\n",
        "df_clean = df_clean[~((df_clean['carat'] >= 1.0) & (df_clean['carat'] <= 1.3) & (df_clean['price'] >= 15000) & (df_clean['price'] <= 20000))]\n",
        "df_clean = df_clean[~((df_clean['carat'] >= 0.7) & (df_clean['carat'] <= 1.4) & (df_clean['price'] >= 14000) & (df_clean['price'] <= 25000))]\n",
        "df_clean.plot(kind=\"scatter\", x=\"carat\", y=\"price\", alpha=0.1)\n",
        "\n",
        "# Adding FEATURES\n",
        "# adding a new feature called diameter. d = cube root of (carat * 6.4)\n",
        "df_clean['diameter'] = (df_clean['carat'] ** (1/3)) * 6.4\n",
        "\n",
        "# adding another feature called volume. volume = diameter * depth * table\n",
        "df_clean['volume'] = df_clean['diameter'] * df_clean['depth'] * df_clean['table']\n",
        "\n",
        "# splitting clean dataset into numerical and object\n",
        "df_num = df_clean[['price', 'x', 'y','z', 'diameter','volume','carat','depth','table']]\n",
        "df_object = df_clean[['cut', 'color', 'clarity']]\n",
        "\n",
        "# encoding color and clarity by OHE and cut by ordinal\n",
        "\n",
        "# Define the order for ordinal encoding of 'cut'\n",
        "cut_order = ['F', 'G', 'V', 'P', 'I']\n",
        "\n",
        "# Initialize the encoders\n",
        "ordinal_encoder = OrdinalEncoder(categories=[cut_order])\n",
        "onehot_encoder = OneHotEncoder(drop='first', sparse=False)\n",
        "\n",
        "# Ordinal encode 'cut'\n",
        "df_object['cut'] = ordinal_encoder.fit_transform(df_object[['cut']])\n",
        "\n",
        "# One-hot encode 'color' and 'clarity'\n",
        "df_encoded = pd.get_dummies(df_object, columns=['color', 'clarity'])\n",
        "\n",
        "# combining the number and object dataframe\n",
        "df_processed = pd.concat([df_num, df_encoded], axis=1)\n"
      ],
      "metadata": {
        "colab": {
          "base_uri": "https://localhost:8080/",
          "height": 571
        },
        "id": "I6juXkDeo0Ic",
        "outputId": "adec746b-2165-43c2-b7af-a693cafa3e76"
      },
      "execution_count": null,
      "outputs": [
        {
          "output_type": "execute_result",
          "data": {
            "text/plain": [
              "<Axes: xlabel='carat', ylabel='price'>"
            ]
          },
          "metadata": {},
          "execution_count": 180
        },
        {
          "output_type": "stream",
          "name": "stderr",
          "text": [
            "<ipython-input-180-efae4edc4f67>:32: SettingWithCopyWarning: \n",
            "A value is trying to be set on a copy of a slice from a DataFrame.\n",
            "Try using .loc[row_indexer,col_indexer] = value instead\n",
            "\n",
            "See the caveats in the documentation: https://pandas.pydata.org/pandas-docs/stable/user_guide/indexing.html#returning-a-view-versus-a-copy\n",
            "  df_object['cut'] = ordinal_encoder.fit_transform(df_object[['cut']])\n"
          ]
        },
        {
          "output_type": "display_data",
          "data": {
            "text/plain": [
              "<Figure size 640x480 with 1 Axes>"
            ],
            "image/png": "[encoded data removed]"
          },
          "metadata": {}
        }
      ]
    },
    {
      "cell_type": "markdown",
      "source": [
        "# PREPPING FOR TRAINING"
      ],
      "metadata": {
        "id": "9rKWyxMbpiJ_"
      }
    },
    {
      "cell_type": "code",
      "source": [
        "# Prepping the data for splitting\n",
        "dfX = df_processed.loc[:, df_processed.columns != 'price']\n",
        "dfy = df_processed.loc[:, df_processed.columns == 'price'].values.ravel()\n",
        "\n",
        "# Split the original dataset into train (75%) and temp (25%)\n",
        "train_df, temp_df = train_test_split(df_processed, test_size=0.25, random_state=42)\n",
        "\n",
        "# For training set\n",
        "X_train = train_df.drop(columns=['price'])  # Features\n",
        "y_train = train_df['price']  # Target variable"
      ],
      "metadata": {
        "id": "Oe88EaZ_pg15"
      },
      "execution_count": null,
      "outputs": []
    },
    {
      "cell_type": "markdown",
      "source": [
        "# MODEL"
      ],
      "metadata": {
        "id": "JedIavMpp4Jy"
      }
    },
    {
      "cell_type": "code",
      "source": [
        "# Create a ridgeregression model\n",
        "model = Ridge(alpha=10, solver='auto', tol=0.005)"
      ],
      "metadata": {
        "id": "ijIApcOrqG28"
      },
      "execution_count": null,
      "outputs": []
    },
    {
      "cell_type": "code",
      "source": [
        "# Create a pipeline with standard scaling, polynomial features, and Ridge regression\n",
        "pipe_all = make_pipeline(StandardScaler(), PolynomialFeatures(degree=3), model)\n",
        "\n",
        "# Fit the model on the training set\n",
        "pipe_all.fit(X_train, y_train)\n"
      ],
      "metadata": {
        "colab": {
          "base_uri": "https://localhost:8080/",
          "height": 161
        },
        "id": "bi1AlzfqtWf0",
        "outputId": "ea5f3a71-b660-4f39-f371-881cdd85cd54"
      },
      "execution_count": null,
      "outputs": [
        {
          "output_type": "execute_result",
          "data": {
            "text/plain": [
              "Pipeline(steps=[('standardscaler', StandardScaler()),\n",
              "                ('polynomialfeatures', PolynomialFeatures(degree=3)),\n",
              "                ('ridge', Ridge(alpha=10, tol=0.005))])"
            ],
            "text/html": [
              "<style>#sk-container-id-11 {color: black;background-color: white;}#sk-container-id-11 pre{padding: 0;}#sk-container-id-11 div.sk-toggleable {background-color: white;}#sk-container-id-11 label.sk-toggleable__label {cursor: pointer;display: block;width: 100%;margin-bottom: 0;padding: 0.3em;box-sizing: border-box;text-align: center;}#sk-container-id-11 label.sk-toggleable__label-arrow:before {content: \"▸\";float: left;margin-right: 0.25em;color: #696969;}#sk-container-id-11 label.sk-toggleable__label-arrow:hover:before {color: black;}#sk-container-id-11 div.sk-estimator:hover label.sk-toggleable__label-arrow:before {color: black;}#sk-container-id-11 div.sk-toggleable__content {max-height: 0;max-width: 0;overflow: hidden;text-align: left;background-color: #f0f8ff;}#sk-container-id-11 div.sk-toggleable__content pre {margin: 0.2em;color: black;border-radius: 0.25em;background-color: #f0f8ff;}#sk-container-id-11 input.sk-toggleable__control:checked~div.sk-toggleable__content {max-height: 200px;max-width: 100%;overflow: auto;}#sk-container-id-11 input.sk-toggleable__control:checked~label.sk-toggleable__label-arrow:before {content: \"▾\";}#sk-container-id-11 div.sk-estimator input.sk-toggleable__control:checked~label.sk-toggleable__label {background-color: #d4ebff;}#sk-container-id-11 div.sk-label input.sk-toggleable__control:checked~label.sk-toggleable__label {background-color: #d4ebff;}#sk-container-id-11 input.sk-hidden--visually {border: 0;clip: rect(1px 1px 1px 1px);clip: rect(1px, 1px, 1px, 1px);height: 1px;margin: -1px;overflow: hidden;padding: 0;position: absolute;width: 1px;}#sk-container-id-11 div.sk-estimator {font-family: monospace;background-color: #f0f8ff;border: 1px dotted black;border-radius: 0.25em;box-sizing: border-box;margin-bottom: 0.5em;}#sk-container-id-11 div.sk-estimator:hover {background-color: #d4ebff;}#sk-container-id-11 div.sk-parallel-item::after {content: \"\";width: 100%;border-bottom: 1px solid gray;flex-grow: 1;}#sk-container-id-11 div.sk-label:hover label.sk-toggleable__label {background-color: #d4ebff;}#sk-container-id-11 div.sk-serial::before {content: \"\";position: absolute;border-left: 1px solid gray;box-sizing: border-box;top: 0;bottom: 0;left: 50%;z-index: 0;}#sk-container-id-11 div.sk-serial {display: flex;flex-direction: column;align-items: center;background-color: white;padding-right: 0.2em;padding-left: 0.2em;position: relative;}#sk-container-id-11 div.sk-item {position: relative;z-index: 1;}#sk-container-id-11 div.sk-parallel {display: flex;align-items: stretch;justify-content: center;background-color: white;position: relative;}#sk-container-id-11 div.sk-item::before, #sk-container-id-11 div.sk-parallel-item::before {content: \"\";position: absolute;border-left: 1px solid gray;box-sizing: border-box;top: 0;bottom: 0;left: 50%;z-index: -1;}#sk-container-id-11 div.sk-parallel-item {display: flex;flex-direction: column;z-index: 1;position: relative;background-color: white;}#sk-container-id-11 div.sk-parallel-item:first-child::after {align-self: flex-end;width: 50%;}#sk-container-id-11 div.sk-parallel-item:last-child::after {align-self: flex-start;width: 50%;}#sk-container-id-11 div.sk-parallel-item:only-child::after {width: 0;}#sk-container-id-11 div.sk-dashed-wrapped {border: 1px dashed gray;margin: 0 0.4em 0.5em 0.4em;box-sizing: border-box;padding-bottom: 0.4em;background-color: white;}#sk-container-id-11 div.sk-label label {font-family: monospace;font-weight: bold;display: inline-block;line-height: 1.2em;}#sk-container-id-11 div.sk-label-container {text-align: center;}#sk-container-id-11 div.sk-container {/* jupyter's `normalize.less` sets `[hidden] { display: none; }` but bootstrap.min.css set `[hidden] { display: none !important; }` so we also need the `!important` here to be able to override the default hidden behavior on the sphinx rendered scikit-learn.org. See: https://github.com/scikit-learn/scikit-learn/issues/21755 */display: inline-block !important;position: relative;}#sk-container-id-11 div.sk-text-repr-fallback {display: none;}</style><div id=\"sk-container-id-11\" class=\"sk-top-container\"><div class=\"sk-text-repr-fallback\"><pre>Pipeline(steps=[(&#x27;standardscaler&#x27;, StandardScaler()),\n",
              "                (&#x27;polynomialfeatures&#x27;, PolynomialFeatures(degree=3)),\n",
              "                (&#x27;ridge&#x27;, Ridge(alpha=10, tol=0.005))])</pre><b>In a Jupyter environment, please rerun this cell to show the HTML representation or trust the notebook. <br />On GitHub, the HTML representation is unable to render, please try loading this page with nbviewer.org.</b></div><div class=\"sk-container\" hidden><div class=\"sk-item sk-dashed-wrapped\"><div class=\"sk-label-container\"><div class=\"sk-label sk-toggleable\"><input class=\"sk-toggleable__control sk-hidden--visually\" id=\"sk-estimator-id-41\" type=\"checkbox\" ><label for=\"sk-estimator-id-41\" class=\"sk-toggleable__label sk-toggleable__label-arrow\">Pipeline</label><div class=\"sk-toggleable__content\"><pre>Pipeline(steps=[(&#x27;standardscaler&#x27;, StandardScaler()),\n",
              "                (&#x27;polynomialfeatures&#x27;, PolynomialFeatures(degree=3)),\n",
              "                (&#x27;ridge&#x27;, Ridge(alpha=10, tol=0.005))])</pre></div></div></div><div class=\"sk-serial\"><div class=\"sk-item\"><div class=\"sk-estimator sk-toggleable\"><input class=\"sk-toggleable__control sk-hidden--visually\" id=\"sk-estimator-id-42\" type=\"checkbox\" ><label for=\"sk-estimator-id-42\" class=\"sk-toggleable__label sk-toggleable__label-arrow\">StandardScaler</label><div class=\"sk-toggleable__content\"><pre>StandardScaler()</pre></div></div></div><div class=\"sk-item\"><div class=\"sk-estimator sk-toggleable\"><input class=\"sk-toggleable__control sk-hidden--visually\" id=\"sk-estimator-id-43\" type=\"checkbox\" ><label for=\"sk-estimator-id-43\" class=\"sk-toggleable__label sk-toggleable__label-arrow\">PolynomialFeatures</label><div class=\"sk-toggleable__content\"><pre>PolynomialFeatures(degree=3)</pre></div></div></div><div class=\"sk-item\"><div class=\"sk-estimator sk-toggleable\"><input class=\"sk-toggleable__control sk-hidden--visually\" id=\"sk-estimator-id-44\" type=\"checkbox\" ><label for=\"sk-estimator-id-44\" class=\"sk-toggleable__label sk-toggleable__label-arrow\">Ridge</label><div class=\"sk-toggleable__content\"><pre>Ridge(alpha=10, tol=0.005)</pre></div></div></div></div></div></div></div>"
            ]
          },
          "metadata": {},
          "execution_count": 183
        }
      ]
    },
    {
      "cell_type": "markdown",
      "source": [
        "# FITTING MODEL ON WHOLE DATASET"
      ],
      "metadata": {
        "id": "ONX8CQIqIxkZ"
      }
    },
    {
      "cell_type": "code",
      "source": [
        "# converting vX as per pre-processing\n",
        "\n",
        "# Preprocessing & Cleaning of training data tXY\n",
        "vX_clean=vX.copy()\n",
        "\n",
        "# Adding FEATURES\n",
        "# adding a new feature called diameter. d = cube root of (carat * 6.4)\n",
        "vX_clean['diameter'] = (vX_clean['carat'] ** (1/3)) * 6.4\n",
        "\n",
        "# adding another feature called volume. volume = diameter * depth * table\n",
        "vX_clean['volume'] = vX_clean['diameter'] * vX_clean['depth'] * vX_clean['table']\n",
        "\n",
        "\n",
        "# splitting clean dataset into numerical and object\n",
        "vX_num = vX_clean[['x', 'y','z', 'diameter','volume','carat','depth','table']]\n",
        "vX_object = vX_clean[['cut', 'color', 'clarity']]\n",
        "\n",
        "# Define the order for ordinal encoding of 'cut'\n",
        "cut_order = ['F', 'G', 'V', 'P', 'I']\n",
        "\n",
        "# Initialize the encoders\n",
        "ordinal_encoder = OrdinalEncoder(categories=[cut_order])\n",
        "onehot_encoder = OneHotEncoder(sparse=False)  # drop='first' to avoid multicollinearity\n",
        "\n",
        "# Ordinal encode 'cut'\n",
        "vX_object['cut'] = ordinal_encoder.fit_transform(vX_object[['cut']])\n",
        "\n",
        "# One-hot encode 'color' and 'clarity'\n",
        "vX_encoded = pd.get_dummies(vX_object, columns=['color', 'clarity'])\n",
        "\n",
        "# combining the number and object dataframe\n",
        "vX_processed = pd.concat([vX_num, vX_encoded], axis=1)"
      ],
      "metadata": {
        "colab": {
          "base_uri": "https://localhost:8080/"
        },
        "id": "ArQ3jrCxJuUU",
        "outputId": "46e15a86-cc42-4134-d854-ac7fd747a179"
      },
      "execution_count": null,
      "outputs": [
        {
          "output_type": "stream",
          "name": "stderr",
          "text": [
            "<ipython-input-184-391f1c1a34d1>:26: SettingWithCopyWarning: \n",
            "A value is trying to be set on a copy of a slice from a DataFrame.\n",
            "Try using .loc[row_indexer,col_indexer] = value instead\n",
            "\n",
            "See the caveats in the documentation: https://pandas.pydata.org/pandas-docs/stable/user_guide/indexing.html#returning-a-view-versus-a-copy\n",
            "  vX_object['cut'] = ordinal_encoder.fit_transform(vX_object[['cut']])\n"
          ]
        }
      ]
    },
    {
      "cell_type": "code",
      "source": [
        "# Applyin the model fitted on whole dataset to predict missing 40k prices\n",
        "vX_pred = pipe_all.predict(vX_processed)"
      ],
      "metadata": {
        "id": "eyEX8fIBOHek"
      },
      "execution_count": null,
      "outputs": []
    },
    {
      "cell_type": "code",
      "execution_count": null,
      "metadata": {
        "id": "R0-jxlb2LiLL"
      },
      "outputs": [],
      "source": [
        "pY = pd.DataFrame(vX_pred, index=range(1, len(vX_pred) + 1), columns=['price'])  # ensure that labels and observations are in corresponding order\n",
        "\n",
        "pY = pY.clip(lower=10)  # ensures no negative prices\n",
        "\n",
        "ToCSV(pY, '💎Final')"
      ]
    },
    {
      "cell_type": "markdown",
      "source": [
        "<font color=green><h3><b>$\\epsilon$. Documentation</b></h3></font>"
      ],
      "metadata": {
        "id": "aMVDxm-kEJis"
      }
    },
    {
      "cell_type": "markdown",
      "metadata": {
        "id": "OtOV3RVcwHAD"
      },
      "source": [
        "<font color=green><h4><b>Task 1. Explain Decisions in Preprocessing Pipeline</b></h4></font>\n",
        "\n",
        "<font color=green>\n",
        "Explain elements of your preprocessing pipeline i.e. feature engineering, subsampling, clustering, dimensionality reduction, etc.</font>\n",
        "\n",
        "<font color=green>\n",
        "\n",
        "1. Why did you choose these elements? (Something in EDA, prior experience,...? Note: EDA is not required)\n",
        "1. How do you evaluate the effectiveness of these elements?\n",
        "1. What else have you tried that worked or didn't?\n",
        "\n",
        "</font>"
      ]
    },
    {
      "cell_type": "markdown",
      "metadata": {
        "id": "39zfwMOXwHAD"
      },
      "source": [
        "<font color=red><b>Your answer here.</b></font>\n",
        "\n",
        "We used several feature engineering methods to see whether we could down-select the features into a subset of what was given in the data. We attempted Stepwise Feature Selection, Recursive Feature Selection with cross-validation, as well as forwards and backwards Sequential Feature Selectors. After using all these selectors and methodologies, we found that using all features was the best.\n",
        "\n",
        "We did find that by using the “carat” feature, we could create a new feature called “diameter” and apply it to the dataset, which improved the performance of the model significantly. The diameter was calculated by multiplying the carat feature value by one-third, then 6.4. Another feature we created was the “volume” feature, which utilizes the newly created “diameter” feature as well as the preexisting “depth” and “table” features. “volume” was calculated by multiplying those three features together. Both of these features served to improve the performance of our model and were thought of by using the paper cited in reference [1].\n",
        "\n",
        "Using the suggestions from the above reference, we also removed outliers from the dataset to avoid too much skewing of the data toward extremes. Outliers were determined using a combination of the “carat” feature and the “price” value.\n",
        "\n",
        "For encoding the features that were nominal. We researched whether there was any worth in applying ordinal encoding to the features. When we did this, we found that diamond prices were affected by the values contained within and each rating for color, cut, and clarity had an inherent ordering in value. However, we also found that if we tried ordinal encoding on all features using this order, it did not help to improve scores, but if we applied it to only one of the features, we did see a significant jump in the performance of a model. After testing the different possible combinations of ordinal and one-hot encoding, we determined that applying ordinal encoding to cut and one-hot encoding color and clarity gave the best results.\n",
        "\n",
        "The two main ways we evaluated were that, first, we used visualization techniques to explore their individual relationships. Then we used cross-validation on default linear regression models with different sets of engineered features and compared the resulting MAE and RMSE values against each other and selecting the feature sets that performed the best with those models.\n",
        "\n",
        "We tried quite a number of techniques that ended in less-than-ideal results. One of the first things we tried doing was examining the correlation between features. We saw that depth was negatively correlated with price, so we attempted to remove it as a feature and found that did not help improve the final results. We did this with a few other sets of features, and it did not work. We attempted to apply both PCA and kernel PCA to little results as well. Several different normalization techniques were also applied to the data in hopes of bettering our results, although all these did not fair, as well as just applying a standard scaling to the features.\n",
        "\n",
        "\n",
        "\n",
        "\n"
      ]
    },
    {
      "cell_type": "markdown",
      "metadata": {
        "id": "ppwkSmoEwHAD"
      },
      "source": [
        "<font color=green><h4><b>Task 2. Explain Decisions in Modeling Pipeline</b></h4></font>\n",
        "\n",
        "<font color=green>\n",
        "Explain your modeling approach, i.e. ideas you tried and why you thought they would be helpful.\n",
        "\n",
        "1. How did these decisions guide you in modeling?\n",
        "1. How do you evaluate the effectiveness of these elements?\n",
        "1. What else have you tried that worked or didn't?\n",
        "\n",
        "</font>"
      ]
    },
    {
      "cell_type": "markdown",
      "metadata": {
        "id": "vBXlrkB9wHAD"
      },
      "source": [
        "<font color=red><b>Your answer here.</b></font>\n",
        "Explain Decisions in Modeling Pipeline\n",
        "\n",
        "Our initial approach to modeling was first testing several different model types. Of these types, we tested Linear Regression, Ridge, Lasso, and ElasticNet. For each of these models, we tested a basic version of the model with default parameters and applied cross-validation techniques, and determined which of these models performed the best with the data available. After determining that Ridge performed the best of the models tested, we turned to hyperparameter tuning techniques. For the purposes of this project, we treated the use of creating a polynomial feature set as part of the hyperparameter tuning. We first attempted to use Grid Search with cross-validation in the Google Colab setting but found that it did not have enough computational resources to use this methodology. After encountering this problem, we moved hyperparameter tuning efforts to local machines that did not have limited resources and could be left to run for a while. After the Grid Search was finished running, we tried applying the recommended hyperparameters to our model in Google Colab; however, this led to a longer runtime than the maximum amount of time allotted. Determining that the main issue with this was due to the hyperparameters, we went back and did some more grid search, eliminating the value that we thought was causing the longest hang-up in training our model. We repeated this step several times until we sat around the maximum run time. Determining that any more changes to hyperparameters would be too detrimental to the final model, we decided to reduce the number of data points the model was trained on. We reduced the number to 75% of the dataset and used that as the training dataset. This decision served two purposes it helps avoid overfitting the data while also reducing training time.\n",
        "\n",
        "For reference, throughout this process of iterative testing different model pipelines, we were constantly applying cross-validation to verify that the models worked well not just on the test and train sets but also on a held-out validation set. The performance of these models was judged using the loss functions MAE and RMSE.\n",
        "\n",
        "In the end, the final model pipeline we settled on was a 3-degree Polynomial Feature generator into a Ridge model with the hyperparameters of alpha = 10, solver = auto, and tol = 0.005.\n",
        "\n"
      ]
    },
    {
      "cell_type": "markdown",
      "metadata": {
        "id": "pzBsjCvS_kEw"
      },
      "source": [
        "<font color=green><h3><b>$\\zeta$. References</b></h3></font>"
      ]
    },
    {
      "cell_type": "markdown",
      "metadata": {
        "id": "2kr8Q-9T_nAb"
      },
      "source": [
        "<font color=red><b>Your answer here.</b></font>\n",
        "\n",
        "<font color=green>\n",
        "Cite your sources to help your peers learn from these (and to avoid plagiarism claims). At the least, HOML textbook should be cited. Use Google Scholar to draw APA citation format for books and publications. Also cite StackOverflow, package documentation, and other meaningful internet resources.\n",
        "\n",
        "</font>\n",
        "\n",
        "1. Kigo, S.N., Omondi, E.O. & Omolo, B.O. Assessing predictive performance of supervised machine learning algorithms for a diamond pricing model. Sci Rep 13, 17315 (2023). https://doi.org/10.1038/s41598-023-44326-w\n",
        "2. Pandas.concat#. pandas.concat - pandas 2.2.0 documentation. (n.d.). https://pandas.pydata.org/docs/reference/api/pandas.concat.html\n",
        "3. Pandas.dataframe.drop#. pandas.DataFrame.drop - pandas 2.2.0 documentation. (n.d.). https://pandas.pydata.org/docs/reference/api/pandas.DataFrame.drop.html\n",
        "4. Pandas.get_dummies#. pandas.get_dummies - pandas 2.2.0 documentation. (n.d.-a). https://pandas.pydata.org/docs/reference/api/pandas.get_dummies.html\n",
        "5. Pandas.get_dummies#. pandas.get_dummies - pandas 2.2.0 documentation. (n.d.-b). https://pandas.pydata.org/docs/reference/api/pandas.get_dummies.html\n",
        "6. Running python functions as pipeline jobs¶. Joblib. (n.d.). https://joblib.readthedocs.io/en/stable/\n",
        "7. Sklearn.linear_model.Ridge. scikit. (n.d.-a). https://scikit-learn.org/stable/modules/generated/sklearn.linear_model.Ridge.html\n",
        "8. SKLEARN.METRICS.MEAN_ABSOLUTE_ERROR. scikit. (n.d.-b). https://scikit-learn.org/stable/modules/generated/sklearn.metrics.mean_absolute_error.html\n",
        "9. Sklearn.model_selection.cross_val_score. scikit. (n.d.-c). https://scikit-learn.org/stable/modules/generated/sklearn.model_selection.cross_val_score.html\n",
        "10. Sklearn.model_selection.GRIDSEARCHCV. scikit. (n.d.-d). https://scikit-learn.org/stable/modules/generated/sklearn.model_selection.GridSearchCV.html\n",
        "11. Sklearn.model_selection.train_test_split. scikit. (n.d.-e). https://scikit-learn.org/stable/modules/generated/sklearn.model_selection.train_test_split.html\n",
        "12. Sklearn.pipeline.make_pipeline. scikit. (n.d.-f). https://scikit-learn.org/stable/modules/generated/sklearn.pipeline.make_pipeline.html\n",
        "13. Sklearn.preprocessing.onehotencoder. scikit. (n.d.-g). https://scikit-learn.org/stable/modules/generated/sklearn.preprocessing.OneHotEncoder.html\n",
        "14. Sklearn.preprocessing.OrdinalEncoder. scikit. (n.d.-h). https://scikit-learn.org/stable/modules/generated/sklearn.preprocessing.OrdinalEncoder.html\n",
        "15. Sklearn.preprocessing.PolynomialFeatures. scikit. (n.d.-i). https://scikit-learn.org/stable/modules/generated/sklearn.preprocessing.PolynomialFeatures.html\n",
        "16. Sklearn.preprocessing.StandardScaler. scikit. (n.d.-j). https://scikit-learn.org/stable/modules/generated/sklearn.preprocessing.StandardScaler.html\n",
        "17. 2023 guide to different types of Diamond Cuts + diamond cut chart. Brilliant Earth. (n.d.). https://www.brilliantearth.com/diamond/buying-guide/cut/\n",
        "18. Géron, A. (2019). Hands-on machine learning with scikit-learn, Keras, and tensorflow: Concepts, tools, and techniques to build Intelligent Systems. O’Reilly.\n",
        "19. S, M. (n.d.). Angara.com. https://www.angara.com/blog/diamond-clarity-and-color-chart/?cid=ps-acc%21Google%7CGlobal-DSA%7CUSA-us-ct%21pse-cmp%2112734058433-adg%21159215764249-ad%21683703017440-kwd%21-pl%21-dt%21-mt%21&utm_source=google&source_medium=cpc&gad_source=1&gclid=Cj0KCQiA2eKtBhDcARIsAEGTG40LJjK68B7tCUQij7hkZi6b1FD-cFrg94MXHkio3SZwRCTTYGUNUv0aAkaAEALw_wcB\n",
        "\n",
        "\n"
      ]
    },
    {
      "cell_type": "markdown",
      "metadata": {
        "id": "DoF2GoB_QGw9"
      },
      "source": [
        "<font size=5>⌛</font> <strong><font color=green size=5>Do not exceed competition's runtime limit! Do not write code outside TGP</font></strong>\n",
        "<hr color=green size=40>"
      ]
    },
    {
      "cell_type": "code",
      "execution_count": null,
      "metadata": {
        "id": "bD1sdgYbNWQA",
        "colab": {
          "base_uri": "https://localhost:8080/"
        },
        "outputId": "fe94c765-991a-4cba-eece-eebe26626d3c"
      },
      "outputs": [
        {
          "output_type": "stream",
          "name": "stdout",
          "text": [
            "Runtime is 44 sec\n"
          ]
        }
      ],
      "source": [
        "tmr.ShowTime()    # measure Colab's runtime. Do not remove. Keep as the last cell in your notebook."
      ]
    },
    {
      "cell_type": "markdown",
      "metadata": {
        "id": "oUStTaN4uo_Z"
      },
      "source": [
        "## 💡**Starter Ideas**"
      ]
    },
    {
      "cell_type": "markdown",
      "metadata": {
        "id": "q4QO-u3t8xAO"
      },
      "source": [
        "1. Tune model hyperparameters\n",
        "1. Try to linear and non-linear feature normalization: shift/scale, log, divide features by features (investigate scatterplot matrix)\n",
        "1. Try higher order feature interactions ($x_i^a$, $x_ix_j$, ...) to identify new key features or their linear combinations. With too many features you can use a smaller subsample or reduce dimensionality of feature space using [PCA](https://scikit-learn.org/stable/modules/generated/sklearn.decomposition.PCA.html), [tSNE](https://scikit-learn.org/stable/modules/generated/sklearn.manifold.TSNE.html), or [UMAP](https://umap-learn.readthedocs.io/en/latest/).\n",
        "1. Do a thorough EDA and understand non-linear relation in I/O. Are any interactions more special than others (E.g. is diamond *volume* a better predictor?)\n",
        "1. If you note a shift in trend for any predictors, try building a model for each trend.\n",
        "1. Evaluate predictions and focus on poorly predicted \"groups\". Can they be identified and modeled separately?\n",
        "1. Do scatter plots show piecewise linear shape? Can a separate linear model be used on each support of approximately linear X-Y relation?\n",
        "1. How are categorical features treated by the SKLearn models? Is there a [better way](https://www.google.com/search?q=ways+to+encode+categorical+data) to encode these (perhaps, ordinal) features?\n",
        "  1. E.g. you could replace codes (or groups of codes) with their frequencies, which may capture the implied \"distance\" or rarity between category levels.\n",
        "  1. If encoding ordinal features with integers, should non-equidistant values be considered?\n",
        "1. Learn about [modeling price of a diamond](https://www.google.com/search?q=machine+learning+model+price+diamond).\n",
        "1. Try post-processing: shifting/scaling/transforming the distribution of predicted prices `pY` to match the distribution of training prices `tY`\n"
      ]
    }
  ],
  "metadata": {
    "colab": {
      "provenance": [],
      "gpuType": "T4"
    },
    "kernelspec": {
      "display_name": "Python 3",
      "name": "python3"
    },
    "language_info": {
      "name": "python"
    }
  },
  "nbformat": 4,
  "nbformat_minor": 0
}