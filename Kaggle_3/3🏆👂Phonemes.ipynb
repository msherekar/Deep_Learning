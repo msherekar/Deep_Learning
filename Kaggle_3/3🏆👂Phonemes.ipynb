{
  "cells": [
    {
      "cell_type": "markdown",
      "metadata": {
        "id": "q3pqxgX4DxeH"
      },
      "source": [
        "<small><font color=gray>Notebook author: <a href=\"https://www.linkedin.com/in/olegmelnikov/\" target=\"_blank\">Oleg Melnikov</a> ©2021 onwards</font></small><hr style=\"margin:0;background-color:silver\">\n",
        "\n",
        "**[<font size=6>👂Phonemes</font>](https://www.kaggle.com/competitions/5feb24jh-phonemes/rules)**. [**Instructions**](https://colab.research.google.com/drive/1riOGrE_Fv-yfIbM5V4pgJx4DWcd92cZr#scrollTo=ITaPDPIQEgXV) for running Colabs."
      ]
    },
    {
      "cell_type": "markdown",
      "metadata": {
        "id": "5yMag5FdMw1Q"
      },
      "source": [
        "<small>**(Optional) CONSENT.** <mark>[ X ]</mark> We consent to sharing our Colab (after the assignment ends) with other students/instructors for educational purposes. We understand that sharing is optional and this decision will not affect our grade in any way. <font color=gray><i>(If ok with sharing your Colab for educational purposes, leave \"X\" in the check box.)</i></font></small>"
      ]
    },
    {
      "cell_type": "code",
      "execution_count": null,
      "metadata": {
        "id": "qrogZ_8bD9tZ",
        "colab": {
          "base_uri": "https://localhost:8080/"
        },
        "outputId": "76cb2cc3-b681-4b20-aee0-9b3d957bf1ec"
      },
      "outputs": [
        {
          "output_type": "stream",
          "name": "stdout",
          "text": [
            "Mounted at /content/drive\n"
          ]
        }
      ],
      "source": [
        "from google.colab import drive; drive.mount('/content/drive')   # OK to enable, if your kaggle.json is stored in Google Drive"
      ]
    },
    {
      "cell_type": "code",
      "execution_count": null,
      "metadata": {
        "colab": {
          "base_uri": "https://localhost:8080/"
        },
        "id": "d8XoC8VqBXGs",
        "outputId": "2e8cf922-4a47-48f9-8808-9f3921c094bf"
      },
      "outputs": [
        {
          "output_type": "stream",
          "name": "stdout",
          "text": [
            "cp: cannot stat 'kaggle.json': No such file or directory\n",
            "- competition is now set to: 5feb24jh-phonemes\n",
            "100% 28.8M/28.8M [00:00<00:00, 78.5MB/s]\n",
            "Using competition: 5feb24jh-phonemes\n",
            "Warning: Looks like you're using an outdated API Version, please consider updating (server 1.6.7 / client 1.6.6)\n",
            "  teamId  teamName          submissionDate       score         \n",
            "--------  ----------------  -------------------  ------------  \n",
            "11635108  7 Phonemes        2024-02-17 23:49:57  0.9372000000  \n",
            "11633362  8 Phonemes        2024-02-19 00:36:09  0.9346000000  \n",
            "11631110  6 Phonemes👂       2024-02-18 21:51:09  0.9344000000  \n",
            "11634763  1 Phonemes        2024-02-18 04:33:04  0.9298000000  \n",
            "11649235  2 Phonemes        2024-02-19 03:51:46  0.9286000000  \n",
            "11639045  3 Phonemes        2024-02-19 03:38:48  0.9286000000  \n",
            "11648828  5 Phonemes        2024-02-19 00:06:53  0.9282000000  \n",
            "11638724  4 Phonemes        2024-02-18 02:04:36  0.9278000000  \n",
            "11529795  👂Baseline 🐍(LDA)  2024-01-19 03:51:24  0.6104000000  \n"
          ]
        }
      ],
      "source": [
        "!pip -q install --upgrade --force-reinstall --no-deps kaggle > log  # upgrade kaggle package (to avoid a warning)\n",
        "!mkdir -p ~/.kaggle                                           # .kaggle folder must contain kaggle.json for kaggle executable to properly authenticate you to Kaggle.com\n",
        "!cp /content/drive/MyDrive/kaggle.json ~/.kaggle/kaggle.json >log  # First, download kaggle.json from kaggle.com (in Account page) and place it in the root of mounted Google Drive\n",
        "!cp kaggle.json ~/.kaggle/kaggle.json > log                   # Alternative location of kaggle.json (without a connection to Google Drive)\n",
        "!chmod 600 ~/.kaggle/kaggle.json                              # give only the owner full read/write access to kaggle.json\n",
        "!kaggle config set -n competition -v 5feb24jh-phonemes        # set the competition context for the next few kaggle API calls. !kaggle config view - shows current settings\n",
        "!kaggle competitions download >> log                          # download competition dataset as a zip file\n",
        "!unzip -o *.zip >> log                                        # Kaggle dataset is copied as a single file and needs to be unzipped.\n",
        "!kaggle competitions leaderboard --show                     # print public leaderboard"
      ]
    },
    {
      "cell_type": "code",
      "execution_count": null,
      "metadata": {
        "colab": {
          "base_uri": "https://localhost:8080/"
        },
        "id": "7CyC-JlZFga1",
        "outputId": "d3a620aa-2a93-4752-9f4c-9932bf7fcace"
      },
      "outputs": [
        {
          "output_type": "stream",
          "name": "stdout",
          "text": [
            "CPU times: user 2.66 s, sys: 374 ms, total: 3.04 s\n",
            "Wall time: 5.46 s\n"
          ]
        }
      ],
      "source": [
        "%%time\n",
        "%%capture\n",
        "%reset -f\n",
        "from IPython.core.interactiveshell import InteractiveShell as IS; IS.ast_node_interactivity = \"all\"\n",
        "import numpy as np, pandas as pd, time, matplotlib.pyplot as plt, seaborn as sns, os, tqdm, re, sys, cv2, skimage, xgboost, lightgbm as lgb, librosa\n",
        "from sklearn.preprocessing import PolynomialFeatures\n",
        "from sklearn.linear_model import LogisticRegression as LR\n",
        "from sklearn.ensemble import GradientBoostingClassifier as GBC\n",
        "from sklearn.discriminant_analysis import QuadraticDiscriminantAnalysis as QDA, LinearDiscriminantAnalysis as LDA\n",
        "ToCSV = lambda df, fname: df.round(2).to_csv(f'{fname}.csv', index_label='id') # rounds values to 2 decimals\n",
        "\n",
        "class Timer():\n",
        "  def __init__(self, lim:'RunTimeLimit'=60): self.t0, self.lim, _ = time.time(), lim, print(f'⏳ started. You have {lim} sec. Good luck!')\n",
        "  def ShowTime(self):\n",
        "    msg = f'Runtime is {time.time()-self.t0:.0f} sec'\n",
        "    print(f'\\033[91m\\033[1m' + msg + f' > {self.lim} sec limit!!!\\033[0m' if (time.time()-self.t0-1) > self.lim else msg)\n",
        "\n",
        "np.set_printoptions(linewidth=100, precision=2, edgeitems=2, suppress=True)\n",
        "pd.set_option('display.max_columns', 20, 'display.precision', 2, 'display.max_rows', 4)"
      ]
    },
    {
      "cell_type": "code",
      "execution_count": null,
      "metadata": {
        "colab": {
          "base_uri": "https://localhost:8080/",
          "height": 255
        },
        "id": "X00bQLb5FpxU",
        "outputId": "f9d4e885-9b88-471a-92b8-66fed39c89af"
      },
      "outputs": [
        {
          "output_type": "execute_result",
          "data": {
            "text/plain": [
              "          x1     x2     x3     x4     x5     x6     x7     x8     x9    x10  \\\n",
              "0      11.14  15.17  19.12  18.78  13.79  18.98  20.09  19.16  17.32  19.76   \n",
              "1      10.84  15.20  19.80  17.82  14.10  17.93  19.54  20.97  16.65  22.41   \n",
              "...      ...    ...    ...    ...    ...    ...    ...    ...    ...    ...   \n",
              "59998  12.15  15.78  21.27  19.61  15.14  21.44  23.24  20.91  17.42  21.22   \n",
              "59999  14.78  14.08  15.70  15.51  15.36  15.52  14.68  15.57  15.48  15.45   \n",
              "\n",
              "       ...   x249   x250   x251   x252   x253   x254   x255   x256  SpkrID  \\\n",
              "0      ...   7.79  10.95  10.05   8.67  10.84   9.50   7.96   9.04       0   \n",
              "1      ...  12.95  13.05  11.95  11.07  10.81   9.71  11.57  12.22       0   \n",
              "...    ...    ...    ...    ...    ...    ...    ...    ...    ...     ...   \n",
              "59998  ...   8.82   8.00   7.44   8.32   6.51   8.33   6.83   7.02     436   \n",
              "59999  ...  12.87  13.26  13.16  12.65  13.90  13.10  11.16  13.53     436   \n",
              "\n",
              "         g  \n",
              "0      NaN  \n",
              "1      NaN  \n",
              "...    ...  \n",
              "59998   ao  \n",
              "59999   sh  \n",
              "\n",
              "[60000 rows x 258 columns]"
            ],
            "text/html": [
              "\n",
              "  <div id=\"df-137e8a15-0f36-449d-81b7-5dccd1be7285\" class=\"colab-df-container\">\n",
              "    <div>\n",
              "<style scoped>\n",
              "    .dataframe tbody tr th:only-of-type {\n",
              "        vertical-align: middle;\n",
              "    }\n",
              "\n",
              "    .dataframe tbody tr th {\n",
              "        vertical-align: top;\n",
              "    }\n",
              "\n",
              "    .dataframe thead th {\n",
              "        text-align: right;\n",
              "    }\n",
              "</style>\n",
              "<table border=\"1\" class=\"dataframe\">\n",
              "  <thead>\n",
              "    <tr style=\"text-align: right;\">\n",
              "      <th></th>\n",
              "      <th>x1</th>\n",
              "      <th>x2</th>\n",
              "      <th>x3</th>\n",
              "      <th>x4</th>\n",
              "      <th>x5</th>\n",
              "      <th>x6</th>\n",
              "      <th>x7</th>\n",
              "      <th>x8</th>\n",
              "      <th>x9</th>\n",
              "      <th>x10</th>\n",
              "      <th>...</th>\n",
              "      <th>x249</th>\n",
              "      <th>x250</th>\n",
              "      <th>x251</th>\n",
              "      <th>x252</th>\n",
              "      <th>x253</th>\n",
              "      <th>x254</th>\n",
              "      <th>x255</th>\n",
              "      <th>x256</th>\n",
              "      <th>SpkrID</th>\n",
              "      <th>g</th>\n",
              "    </tr>\n",
              "  </thead>\n",
              "  <tbody>\n",
              "    <tr>\n",
              "      <th>0</th>\n",
              "      <td>11.14</td>\n",
              "      <td>15.17</td>\n",
              "      <td>19.12</td>\n",
              "      <td>18.78</td>\n",
              "      <td>13.79</td>\n",
              "      <td>18.98</td>\n",
              "      <td>20.09</td>\n",
              "      <td>19.16</td>\n",
              "      <td>17.32</td>\n",
              "      <td>19.76</td>\n",
              "      <td>...</td>\n",
              "      <td>7.79</td>\n",
              "      <td>10.95</td>\n",
              "      <td>10.05</td>\n",
              "      <td>8.67</td>\n",
              "      <td>10.84</td>\n",
              "      <td>9.50</td>\n",
              "      <td>7.96</td>\n",
              "      <td>9.04</td>\n",
              "      <td>0</td>\n",
              "      <td>NaN</td>\n",
              "    </tr>\n",
              "    <tr>\n",
              "      <th>1</th>\n",
              "      <td>10.84</td>\n",
              "      <td>15.20</td>\n",
              "      <td>19.80</td>\n",
              "      <td>17.82</td>\n",
              "      <td>14.10</td>\n",
              "      <td>17.93</td>\n",
              "      <td>19.54</td>\n",
              "      <td>20.97</td>\n",
              "      <td>16.65</td>\n",
              "      <td>22.41</td>\n",
              "      <td>...</td>\n",
              "      <td>12.95</td>\n",
              "      <td>13.05</td>\n",
              "      <td>11.95</td>\n",
              "      <td>11.07</td>\n",
              "      <td>10.81</td>\n",
              "      <td>9.71</td>\n",
              "      <td>11.57</td>\n",
              "      <td>12.22</td>\n",
              "      <td>0</td>\n",
              "      <td>NaN</td>\n",
              "    </tr>\n",
              "    <tr>\n",
              "      <th>...</th>\n",
              "      <td>...</td>\n",
              "      <td>...</td>\n",
              "      <td>...</td>\n",
              "      <td>...</td>\n",
              "      <td>...</td>\n",
              "      <td>...</td>\n",
              "      <td>...</td>\n",
              "      <td>...</td>\n",
              "      <td>...</td>\n",
              "      <td>...</td>\n",
              "      <td>...</td>\n",
              "      <td>...</td>\n",
              "      <td>...</td>\n",
              "      <td>...</td>\n",
              "      <td>...</td>\n",
              "      <td>...</td>\n",
              "      <td>...</td>\n",
              "      <td>...</td>\n",
              "      <td>...</td>\n",
              "      <td>...</td>\n",
              "      <td>...</td>\n",
              "    </tr>\n",
              "    <tr>\n",
              "      <th>59998</th>\n",
              "      <td>12.15</td>\n",
              "      <td>15.78</td>\n",
              "      <td>21.27</td>\n",
              "      <td>19.61</td>\n",
              "      <td>15.14</td>\n",
              "      <td>21.44</td>\n",
              "      <td>23.24</td>\n",
              "      <td>20.91</td>\n",
              "      <td>17.42</td>\n",
              "      <td>21.22</td>\n",
              "      <td>...</td>\n",
              "      <td>8.82</td>\n",
              "      <td>8.00</td>\n",
              "      <td>7.44</td>\n",
              "      <td>8.32</td>\n",
              "      <td>6.51</td>\n",
              "      <td>8.33</td>\n",
              "      <td>6.83</td>\n",
              "      <td>7.02</td>\n",
              "      <td>436</td>\n",
              "      <td>ao</td>\n",
              "    </tr>\n",
              "    <tr>\n",
              "      <th>59999</th>\n",
              "      <td>14.78</td>\n",
              "      <td>14.08</td>\n",
              "      <td>15.70</td>\n",
              "      <td>15.51</td>\n",
              "      <td>15.36</td>\n",
              "      <td>15.52</td>\n",
              "      <td>14.68</td>\n",
              "      <td>15.57</td>\n",
              "      <td>15.48</td>\n",
              "      <td>15.45</td>\n",
              "      <td>...</td>\n",
              "      <td>12.87</td>\n",
              "      <td>13.26</td>\n",
              "      <td>13.16</td>\n",
              "      <td>12.65</td>\n",
              "      <td>13.90</td>\n",
              "      <td>13.10</td>\n",
              "      <td>11.16</td>\n",
              "      <td>13.53</td>\n",
              "      <td>436</td>\n",
              "      <td>sh</td>\n",
              "    </tr>\n",
              "  </tbody>\n",
              "</table>\n",
              "<p>60000 rows × 258 columns</p>\n",
              "</div>\n",
              "    <div class=\"colab-df-buttons\">\n",
              "\n",
              "  <div class=\"colab-df-container\">\n",
              "    <button class=\"colab-df-convert\" onclick=\"convertToInteractive('df-137e8a15-0f36-449d-81b7-5dccd1be7285')\"\n",
              "            title=\"Convert this dataframe to an interactive table.\"\n",
              "            style=\"display:none;\">\n",
              "\n",
              "  <svg xmlns=\"http://www.w3.org/2000/svg\" height=\"24px\" viewBox=\"0 -960 960 960\">\n",
              "    <path d=\"M120-120v-720h720v720H120Zm60-500h600v-160H180v160Zm220 220h160v-160H400v160Zm0 220h160v-160H400v160ZM180-400h160v-160H180v160Zm440 0h160v-160H620v160ZM180-180h160v-160H180v160Zm440 0h160v-160H620v160Z\"/>\n",
              "  </svg>\n",
              "    </button>\n",
              "\n",
              "  <style>\n",
              "    .colab-df-container {\n",
              "      display:flex;\n",
              "      gap: 12px;\n",
              "    }\n",
              "\n",
              "    .colab-df-convert {\n",
              "      background-color: #E8F0FE;\n",
              "      border: none;\n",
              "      border-radius: 50%;\n",
              "      cursor: pointer;\n",
              "      display: none;\n",
              "      fill: #1967D2;\n",
              "      height: 32px;\n",
              "      padding: 0 0 0 0;\n",
              "      width: 32px;\n",
              "    }\n",
              "\n",
              "    .colab-df-convert:hover {\n",
              "      background-color: #E2EBFA;\n",
              "      box-shadow: 0px 1px 2px rgba(60, 64, 67, 0.3), 0px 1px 3px 1px rgba(60, 64, 67, 0.15);\n",
              "      fill: #174EA6;\n",
              "    }\n",
              "\n",
              "    .colab-df-buttons div {\n",
              "      margin-bottom: 4px;\n",
              "    }\n",
              "\n",
              "    [theme=dark] .colab-df-convert {\n",
              "      background-color: #3B4455;\n",
              "      fill: #D2E3FC;\n",
              "    }\n",
              "\n",
              "    [theme=dark] .colab-df-convert:hover {\n",
              "      background-color: #434B5C;\n",
              "      box-shadow: 0px 1px 3px 1px rgba(0, 0, 0, 0.15);\n",
              "      filter: drop-shadow(0px 1px 2px rgba(0, 0, 0, 0.3));\n",
              "      fill: #FFFFFF;\n",
              "    }\n",
              "  </style>\n",
              "\n",
              "    <script>\n",
              "      const buttonEl =\n",
              "        document.querySelector('#df-137e8a15-0f36-449d-81b7-5dccd1be7285 button.colab-df-convert');\n",
              "      buttonEl.style.display =\n",
              "        google.colab.kernel.accessAllowed ? 'block' : 'none';\n",
              "\n",
              "      async function convertToInteractive(key) {\n",
              "        const element = document.querySelector('#df-137e8a15-0f36-449d-81b7-5dccd1be7285');\n",
              "        const dataTable =\n",
              "          await google.colab.kernel.invokeFunction('convertToInteractive',\n",
              "                                                    [key], {});\n",
              "        if (!dataTable) return;\n",
              "\n",
              "        const docLinkHtml = 'Like what you see? Visit the ' +\n",
              "          '<a target=\"_blank\" href=https://colab.research.google.com/notebooks/data_table.ipynb>data table notebook</a>'\n",
              "          + ' to learn more about interactive tables.';\n",
              "        element.innerHTML = '';\n",
              "        dataTable['output_type'] = 'display_data';\n",
              "        await google.colab.output.renderOutput(dataTable, element);\n",
              "        const docLink = document.createElement('div');\n",
              "        docLink.innerHTML = docLinkHtml;\n",
              "        element.appendChild(docLink);\n",
              "      }\n",
              "    </script>\n",
              "  </div>\n",
              "\n",
              "\n",
              "<div id=\"df-108de132-3b54-4de2-b14c-d41240c663ff\">\n",
              "  <button class=\"colab-df-quickchart\" onclick=\"quickchart('df-108de132-3b54-4de2-b14c-d41240c663ff')\"\n",
              "            title=\"Suggest charts\"\n",
              "            style=\"display:none;\">\n",
              "\n",
              "<svg xmlns=\"http://www.w3.org/2000/svg\" height=\"24px\"viewBox=\"0 0 24 24\"\n",
              "     width=\"24px\">\n",
              "    <g>\n",
              "        <path d=\"M19 3H5c-1.1 0-2 .9-2 2v14c0 1.1.9 2 2 2h14c1.1 0 2-.9 2-2V5c0-1.1-.9-2-2-2zM9 17H7v-7h2v7zm4 0h-2V7h2v10zm4 0h-2v-4h2v4z\"/>\n",
              "    </g>\n",
              "</svg>\n",
              "  </button>\n",
              "\n",
              "<style>\n",
              "  .colab-df-quickchart {\n",
              "      --bg-color: #E8F0FE;\n",
              "      --fill-color: #1967D2;\n",
              "      --hover-bg-color: #E2EBFA;\n",
              "      --hover-fill-color: #174EA6;\n",
              "      --disabled-fill-color: #AAA;\n",
              "      --disabled-bg-color: #DDD;\n",
              "  }\n",
              "\n",
              "  [theme=dark] .colab-df-quickchart {\n",
              "      --bg-color: #3B4455;\n",
              "      --fill-color: #D2E3FC;\n",
              "      --hover-bg-color: #434B5C;\n",
              "      --hover-fill-color: #FFFFFF;\n",
              "      --disabled-bg-color: #3B4455;\n",
              "      --disabled-fill-color: #666;\n",
              "  }\n",
              "\n",
              "  .colab-df-quickchart {\n",
              "    background-color: var(--bg-color);\n",
              "    border: none;\n",
              "    border-radius: 50%;\n",
              "    cursor: pointer;\n",
              "    display: none;\n",
              "    fill: var(--fill-color);\n",
              "    height: 32px;\n",
              "    padding: 0;\n",
              "    width: 32px;\n",
              "  }\n",
              "\n",
              "  .colab-df-quickchart:hover {\n",
              "    background-color: var(--hover-bg-color);\n",
              "    box-shadow: 0 1px 2px rgba(60, 64, 67, 0.3), 0 1px 3px 1px rgba(60, 64, 67, 0.15);\n",
              "    fill: var(--button-hover-fill-color);\n",
              "  }\n",
              "\n",
              "  .colab-df-quickchart-complete:disabled,\n",
              "  .colab-df-quickchart-complete:disabled:hover {\n",
              "    background-color: var(--disabled-bg-color);\n",
              "    fill: var(--disabled-fill-color);\n",
              "    box-shadow: none;\n",
              "  }\n",
              "\n",
              "  .colab-df-spinner {\n",
              "    border: 2px solid var(--fill-color);\n",
              "    border-color: transparent;\n",
              "    border-bottom-color: var(--fill-color);\n",
              "    animation:\n",
              "      spin 1s steps(1) infinite;\n",
              "  }\n",
              "\n",
              "  @keyframes spin {\n",
              "    0% {\n",
              "      border-color: transparent;\n",
              "      border-bottom-color: var(--fill-color);\n",
              "      border-left-color: var(--fill-color);\n",
              "    }\n",
              "    20% {\n",
              "      border-color: transparent;\n",
              "      border-left-color: var(--fill-color);\n",
              "      border-top-color: var(--fill-color);\n",
              "    }\n",
              "    30% {\n",
              "      border-color: transparent;\n",
              "      border-left-color: var(--fill-color);\n",
              "      border-top-color: var(--fill-color);\n",
              "      border-right-color: var(--fill-color);\n",
              "    }\n",
              "    40% {\n",
              "      border-color: transparent;\n",
              "      border-right-color: var(--fill-color);\n",
              "      border-top-color: var(--fill-color);\n",
              "    }\n",
              "    60% {\n",
              "      border-color: transparent;\n",
              "      border-right-color: var(--fill-color);\n",
              "    }\n",
              "    80% {\n",
              "      border-color: transparent;\n",
              "      border-right-color: var(--fill-color);\n",
              "      border-bottom-color: var(--fill-color);\n",
              "    }\n",
              "    90% {\n",
              "      border-color: transparent;\n",
              "      border-bottom-color: var(--fill-color);\n",
              "    }\n",
              "  }\n",
              "</style>\n",
              "\n",
              "  <script>\n",
              "    async function quickchart(key) {\n",
              "      const quickchartButtonEl =\n",
              "        document.querySelector('#' + key + ' button');\n",
              "      quickchartButtonEl.disabled = true;  // To prevent multiple clicks.\n",
              "      quickchartButtonEl.classList.add('colab-df-spinner');\n",
              "      try {\n",
              "        const charts = await google.colab.kernel.invokeFunction(\n",
              "            'suggestCharts', [key], {});\n",
              "      } catch (error) {\n",
              "        console.error('Error during call to suggestCharts:', error);\n",
              "      }\n",
              "      quickchartButtonEl.classList.remove('colab-df-spinner');\n",
              "      quickchartButtonEl.classList.add('colab-df-quickchart-complete');\n",
              "    }\n",
              "    (() => {\n",
              "      let quickchartButtonEl =\n",
              "        document.querySelector('#df-108de132-3b54-4de2-b14c-d41240c663ff button');\n",
              "      quickchartButtonEl.style.display =\n",
              "        google.colab.kernel.accessAllowed ? 'block' : 'none';\n",
              "    })();\n",
              "  </script>\n",
              "</div>\n",
              "\n",
              "  <div id=\"id_fe7aaaf8-fe38-4d9a-8054-44cb87cbe9f1\">\n",
              "    <style>\n",
              "      .colab-df-generate {\n",
              "        background-color: #E8F0FE;\n",
              "        border: none;\n",
              "        border-radius: 50%;\n",
              "        cursor: pointer;\n",
              "        display: none;\n",
              "        fill: #1967D2;\n",
              "        height: 32px;\n",
              "        padding: 0 0 0 0;\n",
              "        width: 32px;\n",
              "      }\n",
              "\n",
              "      .colab-df-generate:hover {\n",
              "        background-color: #E2EBFA;\n",
              "        box-shadow: 0px 1px 2px rgba(60, 64, 67, 0.3), 0px 1px 3px 1px rgba(60, 64, 67, 0.15);\n",
              "        fill: #174EA6;\n",
              "      }\n",
              "\n",
              "      [theme=dark] .colab-df-generate {\n",
              "        background-color: #3B4455;\n",
              "        fill: #D2E3FC;\n",
              "      }\n",
              "\n",
              "      [theme=dark] .colab-df-generate:hover {\n",
              "        background-color: #434B5C;\n",
              "        box-shadow: 0px 1px 3px 1px rgba(0, 0, 0, 0.15);\n",
              "        filter: drop-shadow(0px 1px 2px rgba(0, 0, 0, 0.3));\n",
              "        fill: #FFFFFF;\n",
              "      }\n",
              "    </style>\n",
              "    <button class=\"colab-df-generate\" onclick=\"generateWithVariable('df')\"\n",
              "            title=\"Generate code using this dataframe.\"\n",
              "            style=\"display:none;\">\n",
              "\n",
              "  <svg xmlns=\"http://www.w3.org/2000/svg\" height=\"24px\"viewBox=\"0 0 24 24\"\n",
              "       width=\"24px\">\n",
              "    <path d=\"M7,19H8.4L18.45,9,17,7.55,7,17.6ZM5,21V16.75L18.45,3.32a2,2,0,0,1,2.83,0l1.4,1.43a1.91,1.91,0,0,1,.58,1.4,1.91,1.91,0,0,1-.58,1.4L9.25,21ZM18.45,9,17,7.55Zm-12,3A5.31,5.31,0,0,0,4.9,8.1,5.31,5.31,0,0,0,1,6.5,5.31,5.31,0,0,0,4.9,4.9,5.31,5.31,0,0,0,6.5,1,5.31,5.31,0,0,0,8.1,4.9,5.31,5.31,0,0,0,12,6.5,5.46,5.46,0,0,0,6.5,12Z\"/>\n",
              "  </svg>\n",
              "    </button>\n",
              "    <script>\n",
              "      (() => {\n",
              "      const buttonEl =\n",
              "        document.querySelector('#id_fe7aaaf8-fe38-4d9a-8054-44cb87cbe9f1 button.colab-df-generate');\n",
              "      buttonEl.style.display =\n",
              "        google.colab.kernel.accessAllowed ? 'block' : 'none';\n",
              "\n",
              "      buttonEl.onclick = () => {\n",
              "        google.colab.notebook.generateWithVariable('df');\n",
              "      }\n",
              "      })();\n",
              "    </script>\n",
              "  </div>\n",
              "\n",
              "    </div>\n",
              "  </div>\n"
            ],
            "application/vnd.google.colaboratory.intrinsic+json": {
              "type": "dataframe",
              "variable_name": "df"
            }
          },
          "metadata": {},
          "execution_count": 4
        }
      ],
      "source": [
        "df = pd.read_csv('XY_Phonemes.csv', low_memory=False); df"
      ]
    },
    {
      "cell_type": "code",
      "execution_count": null,
      "metadata": {
        "colab": {
          "base_uri": "https://localhost:8080/"
        },
        "id": "fFp0IV3BJR9_",
        "outputId": "5ff1a4ee-fd8f-447d-a5b2-d3557c269328"
      },
      "outputs": [
        {
          "output_type": "stream",
          "name": "stdout",
          "text": [
            "<class 'pandas.core.frame.DataFrame'>\n",
            "RangeIndex: 60000 entries, 0 to 59999\n",
            "Columns: 258 entries, x1 to g\n",
            "dtypes: float64(256), int64(1), object(1)\n",
            "memory usage: 118.1+ MB\n"
          ]
        }
      ],
      "source": [
        "df.info()   # observe datatypes and any missing values"
      ]
    },
    {
      "cell_type": "code",
      "execution_count": null,
      "metadata": {
        "id": "UDA4wJqELlOR"
      },
      "outputs": [],
      "source": [
        "# Change string labels to numbers in order of increasing size of the entity (Star < Quasi Star < Galaxy)\n",
        "# df.Class = df.Class.apply(lambda C: -1 if C=='S' else 0 if C=='Q' else 1 if C=='G' else None)"
      ]
    },
    {
      "cell_type": "code",
      "execution_count": null,
      "metadata": {
        "id": "f7OuVizOFsFF"
      },
      "outputs": [],
      "source": [
        "vX = df.query('g!=g').drop('g', axis=1)  # slice a test sample (10K observations)\n",
        "tXY = df.query('g==g')                   # slice training sample\n",
        "tX, tY = tXY.drop('g', axis=1), tXY.g    # split into training I/O (60K-10K = 50K observation)"
      ]
    },
    {
      "cell_type": "code",
      "execution_count": null,
      "metadata": {
        "colab": {
          "base_uri": "https://localhost:8080/",
          "height": 187
        },
        "id": "cF4DKrOxXPfD",
        "outputId": "a135a40e-e3cf-4fb5-bea1-f58b454f562e"
      },
      "outputs": [
        {
          "output_type": "display_data",
          "data": {
            "text/plain": [
              "<Figure size 2000x300 with 1 Axes>"
            ],
            "image/png": "[encoded data removed]"
          },
          "metadata": {}
        }
      ],
      "source": [
        "aa = tXY[tXY.g=='aa'].set_index('g').iloc[[0],0:255]\n",
        "ao = tXY[tXY.g=='ao'].set_index('g').iloc[[0],0:255]\n",
        "_ = pd.concat([aa,ao]).T.plot(figsize=(20,3), grid=True, title='log-periodogram vs frequency. See ESL textbook, pp.148-149, Figure 5.5');"
      ]
    },
    {
      "cell_type": "code",
      "execution_count": null,
      "metadata": {
        "colab": {
          "base_uri": "https://localhost:8080/"
        },
        "id": "z4_C58bbHuja",
        "outputId": "daefd605-3f99-4911-b831-ef2b8419f96b"
      },
      "outputs": [
        {
          "output_type": "stream",
          "name": "stdout",
          "text": [
            "⏳ started. You have 60 sec. Good luck!\n"
          ]
        }
      ],
      "source": [
        "tmr = Timer()"
      ]
    },
    {
      "cell_type": "markdown",
      "metadata": {
        "id": "HtMGXi6vfOxE"
      },
      "source": [
        "<hr color=green size=40>\n",
        "\n",
        "<strong><font color=green size=5>⏳Timed Green Playground (TGP): Your ideas, code, documentation, and timer START HERE!</font></strong>\n",
        "\n",
        "<font color=green>Students: Keep all your definitions, code, documentation in <b>TGP</b>. Modifying any code outside of TGP incurs penalties."
      ]
    },
    {
      "cell_type": "markdown",
      "metadata": {
        "id": "Do4QKjYwff5i"
      },
      "source": [
        "<font color=green><h3><b>$\\alpha$. Prepare data</b></h3>"
      ]
    },
    {
      "cell_type": "code",
      "source": [
        "from sklearn.pipeline import Pipeline\n",
        "from sklearn.model_selection import cross_val_score, cross_validate, cross_val_predict\n",
        "from sklearn.decomposition import PCA\n",
        "from sklearn.tree import DecisionTreeClassifier\n",
        "from sklearn.ensemble import StackingClassifier\n",
        "from sklearn.model_selection import GridSearchCV\n",
        "import random\n",
        "from sklearn.metrics import accuracy_score, classification_report\n",
        "from sklearn.preprocessing import StandardScaler"
      ],
      "metadata": {
        "id": "b6TQ-HG9tA0X"
      },
      "execution_count": null,
      "outputs": []
    },
    {
      "cell_type": "code",
      "source": [
        "# Attempted to combine samples for the same speaker and class\n",
        "# def GroupSpkr(X: pd.DataFrame):\n",
        "#   df = pd.DataFrame([], columns = X.columns)\n",
        "\n",
        "#   for speaker in X['SpkrID'].unique():\n",
        "#     for phoneme in ['aa', 'ao', 'dcl', 'iy', 'sh']:\n",
        "#       averages = X.loc[(X['SpkrID'] == speaker) & (X['g'] == phoneme), :].mean(numeric_only=True)\n",
        "#       if averages.isnull().values.any():\n",
        "#         continue\n",
        "#       averages['g'] = phoneme\n",
        "#       df.loc[-1] = averages\n",
        "#       df.index = df.index + 1\n",
        "\n",
        "#   return df\n",
        "\n",
        "# Combine frequencies into bins, number of bins should be a divisor of 256\n",
        "def BinFreq(X: pd.DataFrame, bins):\n",
        "  bin_size = round(256/bins)\n",
        "  for bin in range(bins):\n",
        "    X['bin' + str(bin)] = X[\"x\" + str(bin_size * bin + 1)]\n",
        "    X.drop([\"x\" + str(bin_size * bin + 1)], axis=1, inplace=True)\n",
        "    for i in range(2, bin_size+1):\n",
        "      if (bin_size * bin + i) > 256:\n",
        "        return X\n",
        "      X['bin' + str(bin)] += X[\"x\" + str(bin_size * bin + i)]\n",
        "      X.drop([\"x\" + str(bin_size * bin + i)], axis=1, inplace=True)\n",
        "\n",
        "  return X"
      ],
      "metadata": {
        "id": "tYfasQrcc3PV"
      },
      "execution_count": null,
      "outputs": []
    },
    {
      "cell_type": "code",
      "execution_count": null,
      "metadata": {
        "colab": {
          "base_uri": "https://localhost:8080/"
        },
        "id": "Nviw5N7GLTbn",
        "outputId": "1f69292a-c8c2-433c-a248-1d53e0659bf6"
      },
      "outputs": [
        {
          "output_type": "stream",
          "name": "stdout",
          "text": [
            "CPU times: user 6.55 s, sys: 1.93 s, total: 8.48 s\n",
            "Wall time: 13.8 s\n"
          ]
        }
      ],
      "source": [
        "%%time\n",
        "n = 5000   # validation subsample\n",
        "\n",
        "# Bin frequencies\n",
        "tXYgrouped = BinFreq(tXY.copy(), 64)\n",
        "vX = BinFreq(vX.copy(), 64)\n",
        "\n",
        "tXg, tYg = tXYgrouped.drop('g', axis=1).iloc[:50000-n,:], tXYgrouped.g[:50000-n]\n",
        "\n",
        "# Validation set\n",
        "vXg, vYg = tXYgrouped.drop('g', axis=1), tXYgrouped.g\n",
        "vXg, vYg = vXg.iloc[-n:,:], vYg[-n:]\n",
        "\n",
        "tXg.drop([\"SpkrID\"], axis=1, inplace=True)\n",
        "vXg.drop([\"SpkrID\"], axis=1, inplace=True)\n",
        "vX.drop([\"SpkrID\"], axis=1, inplace=True)"
      ]
    },
    {
      "cell_type": "markdown",
      "metadata": {
        "id": "Ad1sRAY1_Uu7"
      },
      "source": [
        "<font color=green><h3><b>$\\beta$. Fit the model to the training dataset</b><h3>"
      ]
    },
    {
      "cell_type": "code",
      "source": [
        "random.seed(0)\n",
        "pipeline = Pipeline([\n",
        "    (\"scaler\", StandardScaler()),\n",
        "    ('pca', PCA(n_components='mle')),\n",
        "    (\"predict\", StackingClassifier([('lda', LDA(n_components=2)), ('dt', DecisionTreeClassifier(max_depth=7, min_samples_leaf=10, random_state=42))]) )\n",
        "])\n",
        "pipeline.fit(tXg, tYg)\n",
        "# Code used for testing models / class reports\n",
        "# y_pred = pipeline.predict(vXg)\n",
        "# print(classification_report(vYg, y_pred))\n",
        "# print(pipeline.score(vXg, vYg))\n"
      ],
      "metadata": {
        "id": "2bei8S09rmVL",
        "colab": {
          "base_uri": "https://localhost:8080/",
          "height": 414
        },
        "outputId": "dd14f69c-b91b-4cde-94c8-7ed08fed4aea"
      },
      "execution_count": null,
      "outputs": [
        {
          "output_type": "stream",
          "name": "stderr",
          "text": [
            "/usr/local/lib/python3.10/dist-packages/sklearn/linear_model/_logistic.py:458: ConvergenceWarning: lbfgs failed to converge (status=1):\n",
            "STOP: TOTAL NO. of ITERATIONS REACHED LIMIT.\n",
            "\n",
            "Increase the number of iterations (max_iter) or scale the data as shown in:\n",
            "    https://scikit-learn.org/stable/modules/preprocessing.html\n",
            "Please also refer to the documentation for alternative solver options:\n",
            "    https://scikit-learn.org/stable/modules/linear_model.html#logistic-regression\n",
            "  n_iter_i = _check_optimize_result(\n"
          ]
        },
        {
          "output_type": "execute_result",
          "data": {
            "text/plain": [
              "Pipeline(steps=[('scaler', StandardScaler()), ('pca', PCA(n_components='mle')),\n",
              "                ('predict',\n",
              "                 StackingClassifier(estimators=[('lda',\n",
              "                                                 LinearDiscriminantAnalysis(n_components=2)),\n",
              "                                                ('dt',\n",
              "                                                 DecisionTreeClassifier(max_depth=7,\n",
              "                                                                        min_samples_leaf=10,\n",
              "                                                                        random_state=42))]))])"
            ],
            "text/html": [
              "<style>#sk-container-id-1 {color: black;background-color: white;}#sk-container-id-1 pre{padding: 0;}#sk-container-id-1 div.sk-toggleable {background-color: white;}#sk-container-id-1 label.sk-toggleable__label {cursor: pointer;display: block;width: 100%;margin-bottom: 0;padding: 0.3em;box-sizing: border-box;text-align: center;}#sk-container-id-1 label.sk-toggleable__label-arrow:before {content: \"▸\";float: left;margin-right: 0.25em;color: #696969;}#sk-container-id-1 label.sk-toggleable__label-arrow:hover:before {color: black;}#sk-container-id-1 div.sk-estimator:hover label.sk-toggleable__label-arrow:before {color: black;}#sk-container-id-1 div.sk-toggleable__content {max-height: 0;max-width: 0;overflow: hidden;text-align: left;background-color: #f0f8ff;}#sk-container-id-1 div.sk-toggleable__content pre {margin: 0.2em;color: black;border-radius: 0.25em;background-color: #f0f8ff;}#sk-container-id-1 input.sk-toggleable__control:checked~div.sk-toggleable__content {max-height: 200px;max-width: 100%;overflow: auto;}#sk-container-id-1 input.sk-toggleable__control:checked~label.sk-toggleable__label-arrow:before {content: \"▾\";}#sk-container-id-1 div.sk-estimator input.sk-toggleable__control:checked~label.sk-toggleable__label {background-color: #d4ebff;}#sk-container-id-1 div.sk-label input.sk-toggleable__control:checked~label.sk-toggleable__label {background-color: #d4ebff;}#sk-container-id-1 input.sk-hidden--visually {border: 0;clip: rect(1px 1px 1px 1px);clip: rect(1px, 1px, 1px, 1px);height: 1px;margin: -1px;overflow: hidden;padding: 0;position: absolute;width: 1px;}#sk-container-id-1 div.sk-estimator {font-family: monospace;background-color: #f0f8ff;border: 1px dotted black;border-radius: 0.25em;box-sizing: border-box;margin-bottom: 0.5em;}#sk-container-id-1 div.sk-estimator:hover {background-color: #d4ebff;}#sk-container-id-1 div.sk-parallel-item::after {content: \"\";width: 100%;border-bottom: 1px solid gray;flex-grow: 1;}#sk-container-id-1 div.sk-label:hover label.sk-toggleable__label {background-color: #d4ebff;}#sk-container-id-1 div.sk-serial::before {content: \"\";position: absolute;border-left: 1px solid gray;box-sizing: border-box;top: 0;bottom: 0;left: 50%;z-index: 0;}#sk-container-id-1 div.sk-serial {display: flex;flex-direction: column;align-items: center;background-color: white;padding-right: 0.2em;padding-left: 0.2em;position: relative;}#sk-container-id-1 div.sk-item {position: relative;z-index: 1;}#sk-container-id-1 div.sk-parallel {display: flex;align-items: stretch;justify-content: center;background-color: white;position: relative;}#sk-container-id-1 div.sk-item::before, #sk-container-id-1 div.sk-parallel-item::before {content: \"\";position: absolute;border-left: 1px solid gray;box-sizing: border-box;top: 0;bottom: 0;left: 50%;z-index: -1;}#sk-container-id-1 div.sk-parallel-item {display: flex;flex-direction: column;z-index: 1;position: relative;background-color: white;}#sk-container-id-1 div.sk-parallel-item:first-child::after {align-self: flex-end;width: 50%;}#sk-container-id-1 div.sk-parallel-item:last-child::after {align-self: flex-start;width: 50%;}#sk-container-id-1 div.sk-parallel-item:only-child::after {width: 0;}#sk-container-id-1 div.sk-dashed-wrapped {border: 1px dashed gray;margin: 0 0.4em 0.5em 0.4em;box-sizing: border-box;padding-bottom: 0.4em;background-color: white;}#sk-container-id-1 div.sk-label label {font-family: monospace;font-weight: bold;display: inline-block;line-height: 1.2em;}#sk-container-id-1 div.sk-label-container {text-align: center;}#sk-container-id-1 div.sk-container {/* jupyter's `normalize.less` sets `[hidden] { display: none; }` but bootstrap.min.css set `[hidden] { display: none !important; }` so we also need the `!important` here to be able to override the default hidden behavior on the sphinx rendered scikit-learn.org. See: https://github.com/scikit-learn/scikit-learn/issues/21755 */display: inline-block !important;position: relative;}#sk-container-id-1 div.sk-text-repr-fallback {display: none;}</style><div id=\"sk-container-id-1\" class=\"sk-top-container\"><div class=\"sk-text-repr-fallback\"><pre>Pipeline(steps=[(&#x27;scaler&#x27;, StandardScaler()), (&#x27;pca&#x27;, PCA(n_components=&#x27;mle&#x27;)),\n",
              "                (&#x27;predict&#x27;,\n",
              "                 StackingClassifier(estimators=[(&#x27;lda&#x27;,\n",
              "                                                 LinearDiscriminantAnalysis(n_components=2)),\n",
              "                                                (&#x27;dt&#x27;,\n",
              "                                                 DecisionTreeClassifier(max_depth=7,\n",
              "                                                                        min_samples_leaf=10,\n",
              "                                                                        random_state=42))]))])</pre><b>In a Jupyter environment, please rerun this cell to show the HTML representation or trust the notebook. <br />On GitHub, the HTML representation is unable to render, please try loading this page with nbviewer.org.</b></div><div class=\"sk-container\" hidden><div class=\"sk-item sk-dashed-wrapped\"><div class=\"sk-label-container\"><div class=\"sk-label sk-toggleable\"><input class=\"sk-toggleable__control sk-hidden--visually\" id=\"sk-estimator-id-1\" type=\"checkbox\" ><label for=\"sk-estimator-id-1\" class=\"sk-toggleable__label sk-toggleable__label-arrow\">Pipeline</label><div class=\"sk-toggleable__content\"><pre>Pipeline(steps=[(&#x27;scaler&#x27;, StandardScaler()), (&#x27;pca&#x27;, PCA(n_components=&#x27;mle&#x27;)),\n",
              "                (&#x27;predict&#x27;,\n",
              "                 StackingClassifier(estimators=[(&#x27;lda&#x27;,\n",
              "                                                 LinearDiscriminantAnalysis(n_components=2)),\n",
              "                                                (&#x27;dt&#x27;,\n",
              "                                                 DecisionTreeClassifier(max_depth=7,\n",
              "                                                                        min_samples_leaf=10,\n",
              "                                                                        random_state=42))]))])</pre></div></div></div><div class=\"sk-serial\"><div class=\"sk-item\"><div class=\"sk-estimator sk-toggleable\"><input class=\"sk-toggleable__control sk-hidden--visually\" id=\"sk-estimator-id-2\" type=\"checkbox\" ><label for=\"sk-estimator-id-2\" class=\"sk-toggleable__label sk-toggleable__label-arrow\">StandardScaler</label><div class=\"sk-toggleable__content\"><pre>StandardScaler()</pre></div></div></div><div class=\"sk-item\"><div class=\"sk-estimator sk-toggleable\"><input class=\"sk-toggleable__control sk-hidden--visually\" id=\"sk-estimator-id-3\" type=\"checkbox\" ><label for=\"sk-estimator-id-3\" class=\"sk-toggleable__label sk-toggleable__label-arrow\">PCA</label><div class=\"sk-toggleable__content\"><pre>PCA(n_components=&#x27;mle&#x27;)</pre></div></div></div><div class=\"sk-item\"><div class=\"sk-label-container\"><div class=\"sk-label sk-toggleable\"><input class=\"sk-toggleable__control sk-hidden--visually\" id=\"sk-estimator-id-4\" type=\"checkbox\" ><label for=\"sk-estimator-id-4\" class=\"sk-toggleable__label sk-toggleable__label-arrow\">predict: StackingClassifier</label><div class=\"sk-toggleable__content\"><pre>StackingClassifier(estimators=[(&#x27;lda&#x27;,\n",
              "                                LinearDiscriminantAnalysis(n_components=2)),\n",
              "                               (&#x27;dt&#x27;,\n",
              "                                DecisionTreeClassifier(max_depth=7,\n",
              "                                                       min_samples_leaf=10,\n",
              "                                                       random_state=42))])</pre></div></div></div><div class=\"sk-serial\"><div class=\"sk-item\"><div class=\"sk-parallel\"><div class=\"sk-parallel-item\"><div class=\"sk-item\"><div class=\"sk-label-container\"><div class=\"sk-label sk-toggleable\"><label>lda</label></div></div><div class=\"sk-serial\"><div class=\"sk-item\"><div class=\"sk-estimator sk-toggleable\"><input class=\"sk-toggleable__control sk-hidden--visually\" id=\"sk-estimator-id-5\" type=\"checkbox\" ><label for=\"sk-estimator-id-5\" class=\"sk-toggleable__label sk-toggleable__label-arrow\">LinearDiscriminantAnalysis</label><div class=\"sk-toggleable__content\"><pre>LinearDiscriminantAnalysis(n_components=2)</pre></div></div></div></div></div></div><div class=\"sk-parallel-item\"><div class=\"sk-item\"><div class=\"sk-label-container\"><div class=\"sk-label sk-toggleable\"><label>dt</label></div></div><div class=\"sk-serial\"><div class=\"sk-item\"><div class=\"sk-estimator sk-toggleable\"><input class=\"sk-toggleable__control sk-hidden--visually\" id=\"sk-estimator-id-6\" type=\"checkbox\" ><label for=\"sk-estimator-id-6\" class=\"sk-toggleable__label sk-toggleable__label-arrow\">DecisionTreeClassifier</label><div class=\"sk-toggleable__content\"><pre>DecisionTreeClassifier(max_depth=7, min_samples_leaf=10, random_state=42)</pre></div></div></div></div></div></div></div></div><div class=\"sk-item\"><div class=\"sk-parallel\"><div class=\"sk-parallel-item\"><div class=\"sk-item\"><div class=\"sk-label-container\"><div class=\"sk-label sk-toggleable\"><label>final_estimator</label></div></div><div class=\"sk-serial\"><div class=\"sk-item\"><div class=\"sk-estimator sk-toggleable\"><input class=\"sk-toggleable__control sk-hidden--visually\" id=\"sk-estimator-id-7\" type=\"checkbox\" ><label for=\"sk-estimator-id-7\" class=\"sk-toggleable__label sk-toggleable__label-arrow\">LogisticRegression</label><div class=\"sk-toggleable__content\"><pre>LogisticRegression()</pre></div></div></div></div></div></div></div></div></div></div></div></div></div></div>"
            ]
          },
          "metadata": {},
          "execution_count": 13
        }
      ]
    },
    {
      "cell_type": "code",
      "source": [
        "# Test models with cross-validation\n",
        "#cross_val_score(pipeline, tXg, tYg, cv=5)\n",
        "# yPred = cross_val_predict(pipeline, tXg, tYg, cv=5)\n",
        "# print(len(tXg))\n",
        "# accuracy_score(tYg[:9000], yPred[:9000])\n",
        "# accuracy_score(tYg[9000:18000], yPred[9000:18000])\n",
        "# accuracy_score(tYg[18000:27000], yPred[18000:27000])\n",
        "# accuracy_score(tYg[27000:36000], yPred[27000:36000])\n",
        "# accuracy_score(tYg[36000:45000], yPred[36000:45000])"
      ],
      "metadata": {
        "id": "TfDk7z8x-oqC"
      },
      "execution_count": null,
      "outputs": []
    },
    {
      "cell_type": "markdown",
      "metadata": {
        "id": "YACmBWMZxViZ"
      },
      "source": [
        "<font color=green><h3><b>$\\gamma$. Generate predictions</b><h3>"
      ]
    },
    {
      "cell_type": "code",
      "execution_count": null,
      "metadata": {
        "id": "R0-jxlb2LiLL",
        "colab": {
          "base_uri": "https://localhost:8080/",
          "height": 144
        },
        "outputId": "ead12d9c-2c89-46ae-d13b-2e474a3b4138"
      },
      "outputs": [
        {
          "output_type": "execute_result",
          "data": {
            "text/plain": [
              "                   unknown    aa     ao   dcl    sh     iy\n",
              "observed output g    10000  7635  11197  8340  9674  13154"
            ],
            "text/html": [
              "\n",
              "  <div id=\"df-536255c9-a4fb-42be-bd65-fa67a4bc796f\" class=\"colab-df-container\">\n",
              "    <div>\n",
              "<style scoped>\n",
              "    .dataframe tbody tr th:only-of-type {\n",
              "        vertical-align: middle;\n",
              "    }\n",
              "\n",
              "    .dataframe tbody tr th {\n",
              "        vertical-align: top;\n",
              "    }\n",
              "\n",
              "    .dataframe thead th {\n",
              "        text-align: right;\n",
              "    }\n",
              "</style>\n",
              "<table border=\"1\" class=\"dataframe\">\n",
              "  <thead>\n",
              "    <tr style=\"text-align: right;\">\n",
              "      <th></th>\n",
              "      <th>unknown</th>\n",
              "      <th>aa</th>\n",
              "      <th>ao</th>\n",
              "      <th>dcl</th>\n",
              "      <th>sh</th>\n",
              "      <th>iy</th>\n",
              "    </tr>\n",
              "  </thead>\n",
              "  <tbody>\n",
              "    <tr>\n",
              "      <th>observed output g</th>\n",
              "      <td>10000</td>\n",
              "      <td>7635</td>\n",
              "      <td>11197</td>\n",
              "      <td>8340</td>\n",
              "      <td>9674</td>\n",
              "      <td>13154</td>\n",
              "    </tr>\n",
              "  </tbody>\n",
              "</table>\n",
              "</div>\n",
              "    <div class=\"colab-df-buttons\">\n",
              "\n",
              "  <div class=\"colab-df-container\">\n",
              "    <button class=\"colab-df-convert\" onclick=\"convertToInteractive('df-536255c9-a4fb-42be-bd65-fa67a4bc796f')\"\n",
              "            title=\"Convert this dataframe to an interactive table.\"\n",
              "            style=\"display:none;\">\n",
              "\n",
              "  <svg xmlns=\"http://www.w3.org/2000/svg\" height=\"24px\" viewBox=\"0 -960 960 960\">\n",
              "    <path d=\"M120-120v-720h720v720H120Zm60-500h600v-160H180v160Zm220 220h160v-160H400v160Zm0 220h160v-160H400v160ZM180-400h160v-160H180v160Zm440 0h160v-160H620v160ZM180-180h160v-160H180v160Zm440 0h160v-160H620v160Z\"/>\n",
              "  </svg>\n",
              "    </button>\n",
              "\n",
              "  <style>\n",
              "    .colab-df-container {\n",
              "      display:flex;\n",
              "      gap: 12px;\n",
              "    }\n",
              "\n",
              "    .colab-df-convert {\n",
              "      background-color: #E8F0FE;\n",
              "      border: none;\n",
              "      border-radius: 50%;\n",
              "      cursor: pointer;\n",
              "      display: none;\n",
              "      fill: #1967D2;\n",
              "      height: 32px;\n",
              "      padding: 0 0 0 0;\n",
              "      width: 32px;\n",
              "    }\n",
              "\n",
              "    .colab-df-convert:hover {\n",
              "      background-color: #E2EBFA;\n",
              "      box-shadow: 0px 1px 2px rgba(60, 64, 67, 0.3), 0px 1px 3px 1px rgba(60, 64, 67, 0.15);\n",
              "      fill: #174EA6;\n",
              "    }\n",
              "\n",
              "    .colab-df-buttons div {\n",
              "      margin-bottom: 4px;\n",
              "    }\n",
              "\n",
              "    [theme=dark] .colab-df-convert {\n",
              "      background-color: #3B4455;\n",
              "      fill: #D2E3FC;\n",
              "    }\n",
              "\n",
              "    [theme=dark] .colab-df-convert:hover {\n",
              "      background-color: #434B5C;\n",
              "      box-shadow: 0px 1px 3px 1px rgba(0, 0, 0, 0.15);\n",
              "      filter: drop-shadow(0px 1px 2px rgba(0, 0, 0, 0.3));\n",
              "      fill: #FFFFFF;\n",
              "    }\n",
              "  </style>\n",
              "\n",
              "    <script>\n",
              "      const buttonEl =\n",
              "        document.querySelector('#df-536255c9-a4fb-42be-bd65-fa67a4bc796f button.colab-df-convert');\n",
              "      buttonEl.style.display =\n",
              "        google.colab.kernel.accessAllowed ? 'block' : 'none';\n",
              "\n",
              "      async function convertToInteractive(key) {\n",
              "        const element = document.querySelector('#df-536255c9-a4fb-42be-bd65-fa67a4bc796f');\n",
              "        const dataTable =\n",
              "          await google.colab.kernel.invokeFunction('convertToInteractive',\n",
              "                                                    [key], {});\n",
              "        if (!dataTable) return;\n",
              "\n",
              "        const docLinkHtml = 'Like what you see? Visit the ' +\n",
              "          '<a target=\"_blank\" href=https://colab.research.google.com/notebooks/data_table.ipynb>data table notebook</a>'\n",
              "          + ' to learn more about interactive tables.';\n",
              "        element.innerHTML = '';\n",
              "        dataTable['output_type'] = 'display_data';\n",
              "        await google.colab.output.renderOutput(dataTable, element);\n",
              "        const docLink = document.createElement('div');\n",
              "        docLink.innerHTML = docLinkHtml;\n",
              "        element.appendChild(docLink);\n",
              "      }\n",
              "    </script>\n",
              "  </div>\n",
              "\n",
              "\n",
              "    </div>\n",
              "  </div>\n"
            ],
            "application/vnd.google.colaboratory.intrinsic+json": {
              "type": "dataframe",
              "summary": "{\n  \"name\": \"ToCSV(pY, 'freqbin64-stack-lda-dt710-noid-pca')\",\n  \"rows\": 1,\n  \"fields\": [\n    {\n      \"column\": \"unknown\",\n      \"properties\": {\n        \"dtype\": \"number\",\n        \"std\": null,\n        \"min\": 10000,\n        \"max\": 10000,\n        \"num_unique_values\": 1,\n        \"samples\": [\n          10000\n        ],\n        \"semantic_type\": \"\",\n        \"description\": \"\"\n      }\n    },\n    {\n      \"column\": \"aa\",\n      \"properties\": {\n        \"dtype\": \"number\",\n        \"std\": null,\n        \"min\": 7635,\n        \"max\": 7635,\n        \"num_unique_values\": 1,\n        \"samples\": [\n          7635\n        ],\n        \"semantic_type\": \"\",\n        \"description\": \"\"\n      }\n    },\n    {\n      \"column\": \"ao\",\n      \"properties\": {\n        \"dtype\": \"number\",\n        \"std\": null,\n        \"min\": 11197,\n        \"max\": 11197,\n        \"num_unique_values\": 1,\n        \"samples\": [\n          11197\n        ],\n        \"semantic_type\": \"\",\n        \"description\": \"\"\n      }\n    },\n    {\n      \"column\": \"dcl\",\n      \"properties\": {\n        \"dtype\": \"number\",\n        \"std\": null,\n        \"min\": 8340,\n        \"max\": 8340,\n        \"num_unique_values\": 1,\n        \"samples\": [\n          8340\n        ],\n        \"semantic_type\": \"\",\n        \"description\": \"\"\n      }\n    },\n    {\n      \"column\": \"sh\",\n      \"properties\": {\n        \"dtype\": \"number\",\n        \"std\": null,\n        \"min\": 9674,\n        \"max\": 9674,\n        \"num_unique_values\": 1,\n        \"samples\": [\n          9674\n        ],\n        \"semantic_type\": \"\",\n        \"description\": \"\"\n      }\n    },\n    {\n      \"column\": \"iy\",\n      \"properties\": {\n        \"dtype\": \"number\",\n        \"std\": null,\n        \"min\": 13154,\n        \"max\": 13154,\n        \"num_unique_values\": 1,\n        \"samples\": [\n          13154\n        ],\n        \"semantic_type\": \"\",\n        \"description\": \"\"\n      }\n    }\n  ]\n}"
            }
          },
          "metadata": {},
          "execution_count": 15
        },
        {
          "output_type": "execute_result",
          "data": {
            "text/plain": [
              "g                     aa    ao   dcl    iy    sh\n",
              "predicted output g  1372  2411  1632  2624  1961"
            ],
            "text/html": [
              "\n",
              "  <div id=\"df-5012129d-5a0a-466a-b9ff-6452c15a9937\" class=\"colab-df-container\">\n",
              "    <div>\n",
              "<style scoped>\n",
              "    .dataframe tbody tr th:only-of-type {\n",
              "        vertical-align: middle;\n",
              "    }\n",
              "\n",
              "    .dataframe tbody tr th {\n",
              "        vertical-align: top;\n",
              "    }\n",
              "\n",
              "    .dataframe thead tr th {\n",
              "        text-align: left;\n",
              "    }\n",
              "</style>\n",
              "<table border=\"1\" class=\"dataframe\">\n",
              "  <thead>\n",
              "    <tr>\n",
              "      <th>g</th>\n",
              "      <th>aa</th>\n",
              "      <th>ao</th>\n",
              "      <th>dcl</th>\n",
              "      <th>iy</th>\n",
              "      <th>sh</th>\n",
              "    </tr>\n",
              "  </thead>\n",
              "  <tbody>\n",
              "    <tr>\n",
              "      <th>predicted output g</th>\n",
              "      <td>1372</td>\n",
              "      <td>2411</td>\n",
              "      <td>1632</td>\n",
              "      <td>2624</td>\n",
              "      <td>1961</td>\n",
              "    </tr>\n",
              "  </tbody>\n",
              "</table>\n",
              "</div>\n",
              "    <div class=\"colab-df-buttons\">\n",
              "\n",
              "  <div class=\"colab-df-container\">\n",
              "    <button class=\"colab-df-convert\" onclick=\"convertToInteractive('df-5012129d-5a0a-466a-b9ff-6452c15a9937')\"\n",
              "            title=\"Convert this dataframe to an interactive table.\"\n",
              "            style=\"display:none;\">\n",
              "\n",
              "  <svg xmlns=\"http://www.w3.org/2000/svg\" height=\"24px\" viewBox=\"0 -960 960 960\">\n",
              "    <path d=\"M120-120v-720h720v720H120Zm60-500h600v-160H180v160Zm220 220h160v-160H400v160Zm0 220h160v-160H400v160ZM180-400h160v-160H180v160Zm440 0h160v-160H620v160ZM180-180h160v-160H180v160Zm440 0h160v-160H620v160Z\"/>\n",
              "  </svg>\n",
              "    </button>\n",
              "\n",
              "  <style>\n",
              "    .colab-df-container {\n",
              "      display:flex;\n",
              "      gap: 12px;\n",
              "    }\n",
              "\n",
              "    .colab-df-convert {\n",
              "      background-color: #E8F0FE;\n",
              "      border: none;\n",
              "      border-radius: 50%;\n",
              "      cursor: pointer;\n",
              "      display: none;\n",
              "      fill: #1967D2;\n",
              "      height: 32px;\n",
              "      padding: 0 0 0 0;\n",
              "      width: 32px;\n",
              "    }\n",
              "\n",
              "    .colab-df-convert:hover {\n",
              "      background-color: #E2EBFA;\n",
              "      box-shadow: 0px 1px 2px rgba(60, 64, 67, 0.3), 0px 1px 3px 1px rgba(60, 64, 67, 0.15);\n",
              "      fill: #174EA6;\n",
              "    }\n",
              "\n",
              "    .colab-df-buttons div {\n",
              "      margin-bottom: 4px;\n",
              "    }\n",
              "\n",
              "    [theme=dark] .colab-df-convert {\n",
              "      background-color: #3B4455;\n",
              "      fill: #D2E3FC;\n",
              "    }\n",
              "\n",
              "    [theme=dark] .colab-df-convert:hover {\n",
              "      background-color: #434B5C;\n",
              "      box-shadow: 0px 1px 3px 1px rgba(0, 0, 0, 0.15);\n",
              "      filter: drop-shadow(0px 1px 2px rgba(0, 0, 0, 0.3));\n",
              "      fill: #FFFFFF;\n",
              "    }\n",
              "  </style>\n",
              "\n",
              "    <script>\n",
              "      const buttonEl =\n",
              "        document.querySelector('#df-5012129d-5a0a-466a-b9ff-6452c15a9937 button.colab-df-convert');\n",
              "      buttonEl.style.display =\n",
              "        google.colab.kernel.accessAllowed ? 'block' : 'none';\n",
              "\n",
              "      async function convertToInteractive(key) {\n",
              "        const element = document.querySelector('#df-5012129d-5a0a-466a-b9ff-6452c15a9937');\n",
              "        const dataTable =\n",
              "          await google.colab.kernel.invokeFunction('convertToInteractive',\n",
              "                                                    [key], {});\n",
              "        if (!dataTable) return;\n",
              "\n",
              "        const docLinkHtml = 'Like what you see? Visit the ' +\n",
              "          '<a target=\"_blank\" href=https://colab.research.google.com/notebooks/data_table.ipynb>data table notebook</a>'\n",
              "          + ' to learn more about interactive tables.';\n",
              "        element.innerHTML = '';\n",
              "        dataTable['output_type'] = 'display_data';\n",
              "        await google.colab.output.renderOutput(dataTable, element);\n",
              "        const docLink = document.createElement('div');\n",
              "        docLink.innerHTML = docLinkHtml;\n",
              "        element.appendChild(docLink);\n",
              "      }\n",
              "    </script>\n",
              "  </div>\n",
              "\n",
              "\n",
              "    </div>\n",
              "  </div>\n"
            ],
            "application/vnd.google.colaboratory.intrinsic+json": {
              "type": "dataframe",
              "summary": "{\n  \"name\": \"ToCSV(pY, 'freqbin64-stack-lda-dt710-noid-pca')\",\n  \"rows\": 1,\n  \"fields\": [\n    {\n      \"column\": [\n        \"aa\"\n      ],\n      \"properties\": {\n        \"dtype\": \"number\",\n        \"std\": null,\n        \"min\": 1372,\n        \"max\": 1372,\n        \"num_unique_values\": 1,\n        \"samples\": [\n          1372\n        ],\n        \"semantic_type\": \"\",\n        \"description\": \"\"\n      }\n    },\n    {\n      \"column\": [\n        \"ao\"\n      ],\n      \"properties\": {\n        \"dtype\": \"number\",\n        \"std\": null,\n        \"min\": 2411,\n        \"max\": 2411,\n        \"num_unique_values\": 1,\n        \"samples\": [\n          2411\n        ],\n        \"semantic_type\": \"\",\n        \"description\": \"\"\n      }\n    },\n    {\n      \"column\": [\n        \"dcl\"\n      ],\n      \"properties\": {\n        \"dtype\": \"number\",\n        \"std\": null,\n        \"min\": 1632,\n        \"max\": 1632,\n        \"num_unique_values\": 1,\n        \"samples\": [\n          1632\n        ],\n        \"semantic_type\": \"\",\n        \"description\": \"\"\n      }\n    },\n    {\n      \"column\": [\n        \"iy\"\n      ],\n      \"properties\": {\n        \"dtype\": \"number\",\n        \"std\": null,\n        \"min\": 2624,\n        \"max\": 2624,\n        \"num_unique_values\": 1,\n        \"samples\": [\n          2624\n        ],\n        \"semantic_type\": \"\",\n        \"description\": \"\"\n      }\n    },\n    {\n      \"column\": [\n        \"sh\"\n      ],\n      \"properties\": {\n        \"dtype\": \"number\",\n        \"std\": null,\n        \"min\": 1961,\n        \"max\": 1961,\n        \"num_unique_values\": 1,\n        \"samples\": [\n          1961\n        ],\n        \"semantic_type\": \"\",\n        \"description\": \"\"\n      }\n    }\n  ]\n}"
            }
          },
          "metadata": {},
          "execution_count": 15
        }
      ],
      "source": [
        "#pipeline.fit(tXg, tYg)\n",
        "pY = pd.DataFrame(pipeline.predict(vX), index=range(1,len(vX)+1), columns=['g'])  # ensure that labels and observations are in corresponding order\n",
        "pd.DataFrame(df.g.fillna('unknown').value_counts(sort=False)).rename(columns={'g':'observed output g'}).T   # distribution of all train labels\n",
        "pd.DataFrame(pY.value_counts(sort=False)).rename(columns={0:'predicted output g'}).T\n",
        "ToCSV(pY, 'freqbin64-stack-lda-dt710-noid-pca')"
      ]
    },
    {
      "cell_type": "code",
      "source": [
        "# Code to create LDA graph\n",
        "# lda = LDA(n_components=2)\n",
        "# x_trans = lda.fit_transform(tX, tY)\n",
        "# #pred = lda.predict(vX0)\n",
        "# print(x_trans)\n",
        "\n",
        "\n",
        "# plt.figure()\n",
        "# classes = [\"aa\", \"ao\", \"dcl\", \"iy\", \"sh\"]\n",
        "# colors = [\"blue\", \"olive\", \"cyan\", \"red\", \"green\"]\n",
        "# lw = 2\n",
        "\n",
        "# for color, cls in zip(colors, classes):\n",
        "#     plt.scatter(x_trans[tY == cls, 0], x_trans[tY == cls, 1], color=color, alpha=0.8, lw=lw, label=cls)\n",
        "\n",
        "# plt.legend(loc=\"best\", scatterpoints=1)\n",
        "# plt.show()"
      ],
      "metadata": {
        "id": "u_S3mh3qdIGe"
      },
      "execution_count": null,
      "outputs": []
    },
    {
      "cell_type": "markdown",
      "source": [
        "LDA class comparison graph"
      ],
      "metadata": {
        "id": "ZSgfgXOddk-I"
      }
    },
    {
      "cell_type": "markdown",
      "source": [
        "![LDA2.png](data:image/png;base64,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)"
      ],
      "metadata": {
        "id": "uatRtB44if3o"
      }
    },
    {
      "cell_type": "markdown",
      "metadata": {
        "id": "aMVDxm-kEJis"
      },
      "source": [
        "<font color=green><h3><b>$\\epsilon$. Documentation</b></h3></font>"
      ]
    },
    {
      "cell_type": "markdown",
      "metadata": {
        "id": "OtOV3RVcwHAD"
      },
      "source": [
        "<font color=green><h4><b>Task 1. Explain Decisions in Preprocessing Pipeline</b></h4></font>\n",
        "\n",
        "<font color=green>\n",
        "Explain elements of your preprocessing pipeline i.e. feature engineering, subsampling, clustering, dimensionality reduction, etc.</font>\n",
        "\n",
        "<font color=green>\n",
        "\n",
        "1. Why did you choose these elements? (Something in EDA, prior experience,...? Note: EDA is not required)\n",
        "1. How do you evaluate the effectiveness of these elements?\n",
        "1. What else have you tried that worked or didn't?\n",
        "\n",
        "</font>"
      ]
    },
    {
      "cell_type": "markdown",
      "metadata": {
        "id": "39zfwMOXwHAD"
      },
      "source": [
        "This dataset has 60000 observation and 257 features. Our first goal was to select an appropriate number of rows (through sampling) and features for downstream processing. To select rows, we initially experimented with various forms of sampling to determine its impact to several modeling techniques. We explored different degrees of stratified sampling (maintaining class distribution) and balanced sampling (selecting equal observations from each class). At a later juncture, where we recognized the challenges with separating the phenomes 'ao' and 'aa', we attempted oversampling using a library called SMOTE to create more instances of these classes in an attempt to force the model to learn these features. For feature engineering we first attempted to remove outliers by Local Outlier Removal technique and Inter Quartile Range method. We also attempted different transforms of the data, attempting to evaluate different characteristics of the audio such as frequency and energy. Boxplots were evaluated to determine the separability of the classes against these feautures and some showed promise however once tested again several different modeling techniques, what consistently demonstrated the best performance was actually including no additional features but sorting the data by SpkrID so that each set of examples from each speaker is presented to the model for training consecutively.\n",
        "\n",
        "After these attempts at a more traditional approach, our team did some research on classification of audio data and found an interesting paper on Penalized Linear Discriminant Analysis (PDA) using Natural Cubic Spline Transformation[5]. We attempted to use these techniques specifically to capture differences in 'ao' and 'ai' phenomes. As noted, the model seemed to have the most difficultly  distinguishing between these two phenomes, with precision, recall, and f1-scores usually hovering between 88-92, while scores for other phenomes averaged 98 and 99 for our top performing models. PDA penalizes discriminant coefficients to enforce smoothness based on frequency. Smoothing splines are a regression technique used to fit a smooth curve to data by penalizing local contrasts such as second-order differences, thereby enforcing smoothness. They are subsets of Piecewise linear basis functions which are used in modeling to represent functions as a combination of linear segments, enabling the approximation of complex curves. Although this exploration of PDA assisted us in exploring the data in some interesting ways it ultimately did not perform better than our discovery of simply grouping speakers so after some initial experimation we reverted to our initial approach.\n",
        "\n",
        "Our final approach utilized a binning method, which combined the data features into bins. Since each feature (x1-x256) gives the presence of a frequency (as the data is a periodogram), combining nearby frequencies reduces overfitting due to speaker voice variance and greatly increased the distinction between aa and ao."
      ]
    },
    {
      "cell_type": "markdown",
      "metadata": {
        "id": "ppwkSmoEwHAD"
      },
      "source": [
        "<font color=green><h4><b>Task 2. Explain Decisions in Modeling Pipeline</b></h4></font>\n",
        "\n",
        "<font color=green>\n",
        "Explain your modeling approach, i.e. ideas you tried and why you thought they would be helpful.\n",
        "\n",
        "1. How did these decisions guide you in modeling?\n",
        "1. How do you evaluate the effectiveness of these elements?\n",
        "1. What else have you tried that worked or didn't?\n",
        "\n",
        "</font>"
      ]
    },
    {
      "cell_type": "markdown",
      "metadata": {
        "id": "vBXlrkB9wHAD"
      },
      "source": [
        "We tried many different models and variations during testing. For normalization, we tried out standard scaler, minmax scaling, and quantile scaling. We also tried out most of the ensemble methods and estimators allowed in the ruleset, logistic regression, decision trees, random forest, bagging, LDA, and SVM. To evaluate the effectiveness of the models, we used both cross validation, validation set test runs, and the kaggle submissions. Ocassionally, we would acheive impressive accuracy, precision, recall and f1 scores (more than 0.95 for all five classes) upon fitting on tX. However, these higher numbers sometimes did not translate into a great kaggle score. The reason might be models overfitting and hence not generalizing on vX values.\n",
        "\n",
        "Finally, we settled on a pipeline consisting of standard scalar, PCA dimension reduction, and a stacking classifier using Linear Discriminant Analysis (LDA) and a Decision tree classifer, with a final Logistic Regression estimator. This combination netted us the highest accuracy in the end while allowing us to run the notebook within the time limit. It should be noted that some models scored higher but could not run within the time limit and thus our final submission includes the stacking approach explained above per the rules of the competition.\n",
        "\n",
        "Choosing the models included a fair amount of trial and error, but we determined early on that LDA did an excellent job of separating dcl/sh, iy, and aa/ao into subgroups. This led us to use an ensemble method with LDA to sort into subgroups, and a decision tree to separate into classes. Both stacking and voting classifiers were tested, but stacking consistently showed better results. After this, most of the effort was spent on hyperparameter tuning."
      ]
    },
    {
      "cell_type": "markdown",
      "metadata": {
        "id": "pzBsjCvS_kEw"
      },
      "source": [
        "<font color=green><h3><b>$\\zeta$. References</b></h3></font>"
      ]
    },
    {
      "cell_type": "markdown",
      "metadata": {
        "id": "2kr8Q-9T_nAb"
      },
      "source": [
        "<font color=green>\n",
        "Cite your sources to help your peers learn from these (and to avoid plagiarism claims). At the least, HOML textbook should be cited. Use Google Scholar to draw APA citation format for books and publications. Also cite StackOverflow, package documentation, and other meaningful internet resources.\n",
        "\n",
        "1. Géron, A. (2019). Hands-on machine learning with Scikit-learn, Keras, and Tensorflow: Concepts, tools, and techniques to build intelligent systems (2nd edition). O'Reilly Media.\n",
        "1. Hastie, T., Tibshirani, R., Friedman, J. H., & Friedman, J. H. (2009). The elements of statistical learning: data mining, inference, and prediction (Vol. 2, pp. 1-758). New York: springer.\n",
        "1. Hastie, T., Buja, A., & Tibshirani, R. (1995). Penalized discriminant analysis. The Annals of Statistics, 23(1), 73-102.\n",
        "1. Oleg Melnikov. (2024). 5feb24jh-👂Phonemes Kaggle. Rules. https://www.kaggle.com/competitions/5feb24jh-phonemes/rules\n",
        "1. Witten, D. M., & Tibshirani, R. (2011). Penalized classification using Fisher’s linear discriminant. Journal of the Royal Statistical Society Series B: Statistical Methodology, 73(5), 753-772.\n",
        "\n",
        "Packages:\n",
        "1. Imblearn.over_sampling.RandomOverSampler. imbalanced-learn. (n.d.-a). https://imbalanced-learn.org/stable/references/generated/imblearn.over_sampling.RandomOverSampler.html\n",
        "1. Imblearn.over_sampling.SMOTE. imbalanced-learn. (n.d.-b). https://imbalanced-learn.org/stable/references/generated/imblearn.over_sampling.SMOTE.html\n",
        "1. Sklearn.base.BaseEstimator. scikit. (n.d.-c). https://scikit-learn.org/stable/modules/generated/sklearn.base.BaseEstimator.html\n",
        "1. Sklearn.base.TransformerMixin. scikit. (n.d.-d). https://scikit-learn.org/stable/modules/generated/sklearn.base.TransformerMixin.html\n",
        "1. Sklearn.compose.ColumnTransformer. scikit. (n.d.-e). https://scikit-learn.org/stable/modules/generated/sklearn.compose.ColumnTransformer.html\n",
        "1. Sklearn.decomposition.PCA. scikit. (n.d.-f). https://scikit-learn.org/stable/modules/generated/sklearn.decomposition.PCA.html\n",
        "1. Sklearn.ensemble.AdaBoostClassifier. scikit. (n.d.-g). https://scikit-learn.org/stable/modules/generated/sklearn.ensemble.AdaBoostClassifier.html\n",
        "1. Sklearn.ensemble.BaggingClassifier. scikit. (n.d.-h). https://scikit-learn.org/stable/modules/generated/sklearn.ensemble.BaggingClassifier.html\n",
        "1. Sklearn.ensemble.ExtraTreesClassifier. scikit. (n.d.-i). https://scikit-learn.org/stable/modules/generated/sklearn.ensemble.ExtraTreesClassifier.html\n",
        "1. Sklearn.ensemble.GradientBoostingClassifier. scikit. (n.d.-j). https://scikit-learn.org/stable/modules/generated/sklearn.ensemble.GradientBoostingClassifier.html\n",
        "1. Sklearn.ensemble.RandomForestClassifier. scikit. (n.d.-k). https://scikit-learn.org/stable/modules/generated/sklearn.ensemble.RandomForestClassifier.html\n",
        "1. Sklearn.ensemble.StackingClassifier. scikit. (n.d.-l). https://scikit-learn.org/stable/modules/generated/sklearn.ensemble.StackingClassifier.html\n",
        "1. Sklearn.ensemble.VotingClassifier. scikit. (n.d.-m). https://scikit-learn.org/stable/modules/generated/sklearn.ensemble.VotingClassifier.html\n",
        "1. Sklearn.metrics.accuracy_score. scikit. (n.d.-n). https://scikit-learn.org/stable/modules/generated/sklearn.metrics.accuracy_score.html\n",
        "1. Sklearn.metrics.classification_report. scikit. (n.d.-o). https://scikit-learn.org/stable/modules/generated/sklearn.metrics.classification_report.html\n",
        "1. Sklearn.model_selection.cross_validate. scikit. (n.d.-p). https://scikit-learn.org/stable/modules/generated/sklearn.model_selection.cross_validate.html\n",
        "1. Sklearn.model_selection.cross_val_predict. scikit. (n.d.-q). https://scikit-learn.org/stable/modules/generated/sklearn.model_selection.cross_val_predict.html\n",
        "1. Sklearn.model_selection.cross_val_score. scikit. (n.d.-r). https://scikit-learn.org/stable/modules/generated/sklearn.model_selection.cross_val_score.html\n",
        "1. Sklearn.model_selection.GridSearchCV. scikit. (n.d.-s). https://scikit-learn.org/stable/modules/generated/sklearn.model_selection.GridSearchCV.html\n",
        "1. Sklearn.neighbors.KNeighborsClassifier. scikit. (n.d.-t). https://scikit-learn.org/stable/modules/generated/sklearn.neighbors.KNeighborsClassifier.html\n",
        "1. Sklearn.pipeline.Pipeline. scikit. (n.d.-u). https://scikit-learn.org/stable/modules/generated/sklearn.pipeline.Pipeline.html\n",
        "1. Sklearn.preprocessing.MinMaxScaler. scikit. (n.d.-v). https://scikit-learn.org/stable/modules/generated/sklearn.preprocessing.MinMaxScaler.html\n",
        "1. Sklearn.preprocessing.QuantileTransformer. scikit. (n.d.-w). https://scikit-learn.org/stable/modules/generated/sklearn.preprocessing.QuantileTransformer.html\n",
        "1. Sklearn.preprocessing.StandardScaler. scikit. (n.d.-x). https://scikit-learn.org/stable/modules/generated/sklearn.preprocessing.StandardScaler.html\n",
        "1. Sklearn.svm.LinearSVC. scikit. (n.d.-y). https://scikit-learn.org/stable/modules/generated/sklearn.svm.LinearSVC.html\n",
        "1. Sklearn.svm.NuSVC. scikit. (n.d.-z). https://scikit-learn.org/stable/modules/generated/sklearn.svm.NuSVC.html\n",
        "1. Sklearn.svm.SVC. scikit. (n.d.-aa). https://scikit-learn.org/stable/modules/generated/sklearn.svm.SVC.html\n",
        "1. Sklearn.tree.DecisionTreeClassifier. scikit. (n.d.-ab). https://scikit-learn.org/stable/modules/generated/sklearn.tree.DecisionTreeClassifier.html\n"
      ]
    },
    {
      "cell_type": "markdown",
      "metadata": {
        "id": "DoF2GoB_QGw9"
      },
      "source": [
        "<font size=5>⌛</font> <strong><font color=green size=5>Do not exceed competition's runtime limit! Do not write code outside TGP</font></strong>\n",
        "<hr color=green size=40>"
      ]
    },
    {
      "cell_type": "code",
      "execution_count": null,
      "metadata": {
        "id": "bD1sdgYbNWQA",
        "colab": {
          "base_uri": "https://localhost:8080/"
        },
        "outputId": "47820ea7-fb0a-4da7-e964-3fb2dd5a9bda"
      },
      "outputs": [
        {
          "output_type": "stream",
          "name": "stdout",
          "text": [
            "Runtime is 36 sec\n"
          ]
        }
      ],
      "source": [
        "tmr.ShowTime()    # measure Colab's runtime. Do not remove. Keep as the last cell in your notebook."
      ]
    },
    {
      "cell_type": "markdown",
      "metadata": {
        "id": "oUStTaN4uo_Z"
      },
      "source": [
        "## 💡**Starter Ideas**"
      ]
    },
    {
      "cell_type": "markdown",
      "metadata": {
        "id": "q4QO-u3t8xAO"
      },
      "source": [
        "1. Tune model hyperparameters\n",
        "1. Try smarter sampling from the training set to avoid using all observations (due to time constraint) and, instead, develop more features\n",
        "1. Try feature restriction, selection, and regularization (see ESL pp.140-141)\n",
        "1. Do a thorough EDA: look for feature augmentations that result in linear decision boundaries between pairs of classes.\n",
        "1. Try encoding and/or incorporating speaker ID. For example, you could scale/transform each speaker's observations separately.\n",
        "1. Carefully read the example in [ESL textbook, p.149](https://hastie.su.domains/ElemStatLearn/printings/ESLII_print12.pdf#page=168), check seminar Colab and lecture slides\n",
        "1. Check difference in distribution between test and train data. You might consider [group k-fold](https://scikit-learn.org/stable/modules/classes.html#module-sklearn.model_selection) for testing locally or your model will memorize user-phoneme releation, instead of phoneme attributes and class.\n",
        "1. Learn the domain to develop better features. See [\"Penalized discriminant analysis\"](https://scholar.google.com/scholar?hl=en&as_sdt=0%2C48&q=Penalized+Discriminant+Analysis&btnG=)\n",
        "1. Look for training outliers that can affect your model's test performance.\n",
        "  1. Essentially, you need to find and exclude training [influential points](https://en.wikipedia.org/wiki/Influential_observation), but training outliers might be influential\n",
        "  1. Brute force with [LOOCV](https://en.wikipedia.org/wiki/Cross-validation_(statistics)#Leave-one-out_cross-validation) is slow, but robust. You might find methods to find each training point's contribution to the prediction and remove rare extreme contributors (since they may not be in the test set)\n",
        "  1. You can find outliers; then evaluate their effect on model's performance\n",
        "    1. You can evaluate 1D and 2D histograms to find outliers and\n",
        "    1. You can cluster observations and find outliers that don't fit the clusters (DBSCAN may be helpful)\n",
        "    1. You can compress high dimensional space to 1D (with PCA, tSNE, UMAP) and then find outliers with a histogram\n",
        " 1. Additional info:\n",
        "    1. Harmonics: [wiki](https://en.wikipedia.org/wiki/Harmonic), [sinusoidal regression](https://www.youtube.com/results?search_query=regression+sinusoidal)\n",
        "    1. Discrete Fourier Transofrm (DFT): [wiki](https://en.wikipedia.org/wiki/Discrete_Fourier_transform), [Steve Brunton @UW](https://www.youtube.com/watch?v=nl9TZanwbBk), [YouTube search](https://www.youtube.com/results?search_query=Discrete+Fourier+transform)\n",
        "    1. Spectral density estimation [(wiki)](https://en.wikipedia.org/wiki/Spectral_density_estimation), [YouTube search](https://www.youtube.com/results?search_query=spectral+density+estimation)\n",
        "\n",
        "\n"
      ]
    },
    {
      "cell_type": "code",
      "execution_count": null,
      "metadata": {
        "id": "tLlIseR-EcrE"
      },
      "outputs": [],
      "source": []
    }
  ],
  "metadata": {
    "colab": {
      "provenance": []
    },
    "kernelspec": {
      "display_name": "Python 3",
      "name": "python3"
    },
    "language_info": {
      "name": "python"
    }
  },
  "nbformat": 4,
  "nbformat_minor": 0
}